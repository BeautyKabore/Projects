{
  "cells": [
    {
      "cell_type": "markdown",
      "metadata": {
        "id": "view-in-github",
        "colab_type": "text"
      },
      "source": [
        "<a href=\"https://colab.research.google.com/github/BeautyKabore/Projects/blob/main/Machine_Learning/Apply_AI_Group8_2_Gun_Violence_Incident_Fatality_Predictor.ipynb\" target=\"_parent\"><img src=\"https://colab.research.google.com/assets/colab-badge.svg\" alt=\"Open In Colab\"/></a>"
      ]
    },
    {
      "cell_type": "markdown",
      "source": [
        "**Title**\n",
        "\n",
        "Gun Violence Incident Fatality Predictor\n",
        "\n",
        "**Introduction**\n",
        "\n",
        "This project seeks to determine the fatality of gun violence incidents. The initial dataset comprised of data from 22 Police Departments across the United States.\n",
        "\n",
        "Dataset - https://github.com/the-trace-and-buzzfeed-news/local-police-data-analysis"
      ],
      "metadata": {
        "id": "-9ZsGhHR2OI1"
      }
    },
    {
      "cell_type": "markdown",
      "source": [
        "\n",
        "\n",
        "```\n",
        "# This is formatted as code\n",
        "```\n",
        "\n",
        "**4 PDs Dataset used**\n",
        "*   Baltimore PD\n",
        "*   Boston PD\n",
        "*   Los Angeles PD\n",
        "*   San Francisco PD\n",
        "\n",
        "**162,47 rows and 17 columns**\n",
        "\n",
        "**Data Selection**\n",
        "1.\tAll have ‘Non-Fatal Shooting’ and ‘Homicide-Gun’ variables under ‘offence_group’ column except Los Angeles.\n",
        "2.\tLos Angeles has ‘Homicide-Criminal-Fatal-Shooting’ and ‘Agg Assault - Shooting - Non-Fatal’ under ‘offence_category’.\n",
        "\n",
        "**Fatal** means ‘Homicide-Gun’ (as recorded by Baltimore PD, Boston PD, Newark PD, San Francisco PD) and ‘Homicide-Criminal-Fatal-Shooting’ (as recorded Los Angeles PD)\n",
        "\n",
        "**Non-Fatal** means ‘‘Non-Fatal Shooting’ (as recorded by Baltimore PD, Boston PD, Newark PD, San Francisco PD) and ‘Agg Assault - Shooting - Non-Fatal’ (as recorded by Los Angeles PD)\n",
        "\n",
        "**N0TE** Research started with 5 PDs but Newark-PD was dropped after further analysis"
      ],
      "metadata": {
        "id": "kS3ym1BU4U6i"
      }
    },
    {
      "cell_type": "code",
      "execution_count": 105,
      "metadata": {
        "id": "nuim8-b56gv4",
        "colab": {
          "base_uri": "https://localhost:8080/",
          "height": 481
        },
        "outputId": "bc4e0069-e5e7-4aa9-e848-407c36184b4e"
      },
      "outputs": [
        {
          "output_type": "stream",
          "name": "stderr",
          "text": [
            "<ipython-input-105-27649a4ab19f>:3: DtypeWarning: Columns (14,16,19,22,29) have mixed types. Specify dtype option on import or set low_memory=False.\n",
            "  data = pd.read_csv(r'https://raw.githubusercontent.com/AI4ALL-Class8-Group2/offensive-standard-data/main/offenses_5pd_fatality.csv')\n"
          ]
        },
        {
          "output_type": "execute_result",
          "data": {
            "text/plain": [
              "                     row_hash          source   agency_name agency_ori  \\\n",
              "0  MDBPD0000-C419771020-01-01  BALTIMORE-MAIN  BALTIMORE-PD  MDBPD0000   \n",
              "1  MDBPD0000-B63BECA76C-01-01  BALTIMORE-MAIN  BALTIMORE-PD  MDBPD0000   \n",
              "2  MDBPD0000-8A7079014F-01-01  BALTIMORE-MAIN  BALTIMORE-PD  MDBPD0000   \n",
              "3  MDBPD0000-3EF6B5EBEF-01-01  BALTIMORE-MAIN  BALTIMORE-PD  MDBPD0000   \n",
              "4  MDBPD0000-5995BFA411-01-01  BALTIMORE-MAIN  BALTIMORE-PD  MDBPD0000   \n",
              "\n",
              "  agency_incident_id occurred_date occurred_time    offense_category  \\\n",
              "0            17V0351     7/26/2017           NaN  NON FATAL SHOOTING   \n",
              "1            17H0198     7/26/2017           NaN  NON FATAL SHOOTING   \n",
              "2            17V0349     7/25/2017           NaN  NON FATAL SHOOTING   \n",
              "3            17V0348     7/25/2017           NaN  NON FATAL SHOOTING   \n",
              "4            17V0346     7/24/2017           NaN  NON FATAL SHOOTING   \n",
              "\n",
              "  top_ucr_classification top_local_classification  ...  victim_ethnicity  \\\n",
              "0                    NaN       NON FATAL SHOOTING  ...               NaN   \n",
              "1                    NaN       NON FATAL SHOOTING  ...               NaN   \n",
              "2                    NaN       NON FATAL SHOOTING  ...               NaN   \n",
              "3                    NaN       NON FATAL SHOOTING  ...               NaN   \n",
              "4                    NaN       NON FATAL SHOOTING  ...               NaN   \n",
              "\n",
              "  victim_race_condensed victim_sex case_status arrest_ind  clearance_status  \\\n",
              "0        BLACK/HISPANIC       MALE        OPEN        NaN              OPEN   \n",
              "1        BLACK/HISPANIC     FEMALE        OPEN        NaN              OPEN   \n",
              "2        BLACK/HISPANIC       MALE        OPEN        NaN              OPEN   \n",
              "3        BLACK/HISPANIC       MALE        OPEN        NaN              OPEN   \n",
              "4        BLACK/HISPANIC       MALE        OPEN        NaN              OPEN   \n",
              "\n",
              "                clearance_group  clearance_date arrest_date Fatality Status  \n",
              "0  Open & No Arrest-Unspecified             NaN         NaN       Non-Fatal  \n",
              "1  Open & No Arrest-Unspecified             NaN         NaN       Non-Fatal  \n",
              "2  Open & No Arrest-Unspecified             NaN         NaN       Non-Fatal  \n",
              "3  Open & No Arrest-Unspecified             NaN         NaN       Non-Fatal  \n",
              "4  Open & No Arrest-Unspecified             NaN         NaN       Non-Fatal  \n",
              "\n",
              "[5 rows x 32 columns]"
            ],
            "text/html": [
              "\n",
              "  <div id=\"df-a5aa4463-6fd9-428e-b6e7-cf50fbb020e3\" class=\"colab-df-container\">\n",
              "    <div>\n",
              "<style scoped>\n",
              "    .dataframe tbody tr th:only-of-type {\n",
              "        vertical-align: middle;\n",
              "    }\n",
              "\n",
              "    .dataframe tbody tr th {\n",
              "        vertical-align: top;\n",
              "    }\n",
              "\n",
              "    .dataframe thead th {\n",
              "        text-align: right;\n",
              "    }\n",
              "</style>\n",
              "<table border=\"1\" class=\"dataframe\">\n",
              "  <thead>\n",
              "    <tr style=\"text-align: right;\">\n",
              "      <th></th>\n",
              "      <th>row_hash</th>\n",
              "      <th>source</th>\n",
              "      <th>agency_name</th>\n",
              "      <th>agency_ori</th>\n",
              "      <th>agency_incident_id</th>\n",
              "      <th>occurred_date</th>\n",
              "      <th>occurred_time</th>\n",
              "      <th>offense_category</th>\n",
              "      <th>top_ucr_classification</th>\n",
              "      <th>top_local_classification</th>\n",
              "      <th>...</th>\n",
              "      <th>victim_ethnicity</th>\n",
              "      <th>victim_race_condensed</th>\n",
              "      <th>victim_sex</th>\n",
              "      <th>case_status</th>\n",
              "      <th>arrest_ind</th>\n",
              "      <th>clearance_status</th>\n",
              "      <th>clearance_group</th>\n",
              "      <th>clearance_date</th>\n",
              "      <th>arrest_date</th>\n",
              "      <th>Fatality Status</th>\n",
              "    </tr>\n",
              "  </thead>\n",
              "  <tbody>\n",
              "    <tr>\n",
              "      <th>0</th>\n",
              "      <td>MDBPD0000-C419771020-01-01</td>\n",
              "      <td>BALTIMORE-MAIN</td>\n",
              "      <td>BALTIMORE-PD</td>\n",
              "      <td>MDBPD0000</td>\n",
              "      <td>17V0351</td>\n",
              "      <td>7/26/2017</td>\n",
              "      <td>NaN</td>\n",
              "      <td>NON FATAL SHOOTING</td>\n",
              "      <td>NaN</td>\n",
              "      <td>NON FATAL SHOOTING</td>\n",
              "      <td>...</td>\n",
              "      <td>NaN</td>\n",
              "      <td>BLACK/HISPANIC</td>\n",
              "      <td>MALE</td>\n",
              "      <td>OPEN</td>\n",
              "      <td>NaN</td>\n",
              "      <td>OPEN</td>\n",
              "      <td>Open &amp; No Arrest-Unspecified</td>\n",
              "      <td>NaN</td>\n",
              "      <td>NaN</td>\n",
              "      <td>Non-Fatal</td>\n",
              "    </tr>\n",
              "    <tr>\n",
              "      <th>1</th>\n",
              "      <td>MDBPD0000-B63BECA76C-01-01</td>\n",
              "      <td>BALTIMORE-MAIN</td>\n",
              "      <td>BALTIMORE-PD</td>\n",
              "      <td>MDBPD0000</td>\n",
              "      <td>17H0198</td>\n",
              "      <td>7/26/2017</td>\n",
              "      <td>NaN</td>\n",
              "      <td>NON FATAL SHOOTING</td>\n",
              "      <td>NaN</td>\n",
              "      <td>NON FATAL SHOOTING</td>\n",
              "      <td>...</td>\n",
              "      <td>NaN</td>\n",
              "      <td>BLACK/HISPANIC</td>\n",
              "      <td>FEMALE</td>\n",
              "      <td>OPEN</td>\n",
              "      <td>NaN</td>\n",
              "      <td>OPEN</td>\n",
              "      <td>Open &amp; No Arrest-Unspecified</td>\n",
              "      <td>NaN</td>\n",
              "      <td>NaN</td>\n",
              "      <td>Non-Fatal</td>\n",
              "    </tr>\n",
              "    <tr>\n",
              "      <th>2</th>\n",
              "      <td>MDBPD0000-8A7079014F-01-01</td>\n",
              "      <td>BALTIMORE-MAIN</td>\n",
              "      <td>BALTIMORE-PD</td>\n",
              "      <td>MDBPD0000</td>\n",
              "      <td>17V0349</td>\n",
              "      <td>7/25/2017</td>\n",
              "      <td>NaN</td>\n",
              "      <td>NON FATAL SHOOTING</td>\n",
              "      <td>NaN</td>\n",
              "      <td>NON FATAL SHOOTING</td>\n",
              "      <td>...</td>\n",
              "      <td>NaN</td>\n",
              "      <td>BLACK/HISPANIC</td>\n",
              "      <td>MALE</td>\n",
              "      <td>OPEN</td>\n",
              "      <td>NaN</td>\n",
              "      <td>OPEN</td>\n",
              "      <td>Open &amp; No Arrest-Unspecified</td>\n",
              "      <td>NaN</td>\n",
              "      <td>NaN</td>\n",
              "      <td>Non-Fatal</td>\n",
              "    </tr>\n",
              "    <tr>\n",
              "      <th>3</th>\n",
              "      <td>MDBPD0000-3EF6B5EBEF-01-01</td>\n",
              "      <td>BALTIMORE-MAIN</td>\n",
              "      <td>BALTIMORE-PD</td>\n",
              "      <td>MDBPD0000</td>\n",
              "      <td>17V0348</td>\n",
              "      <td>7/25/2017</td>\n",
              "      <td>NaN</td>\n",
              "      <td>NON FATAL SHOOTING</td>\n",
              "      <td>NaN</td>\n",
              "      <td>NON FATAL SHOOTING</td>\n",
              "      <td>...</td>\n",
              "      <td>NaN</td>\n",
              "      <td>BLACK/HISPANIC</td>\n",
              "      <td>MALE</td>\n",
              "      <td>OPEN</td>\n",
              "      <td>NaN</td>\n",
              "      <td>OPEN</td>\n",
              "      <td>Open &amp; No Arrest-Unspecified</td>\n",
              "      <td>NaN</td>\n",
              "      <td>NaN</td>\n",
              "      <td>Non-Fatal</td>\n",
              "    </tr>\n",
              "    <tr>\n",
              "      <th>4</th>\n",
              "      <td>MDBPD0000-5995BFA411-01-01</td>\n",
              "      <td>BALTIMORE-MAIN</td>\n",
              "      <td>BALTIMORE-PD</td>\n",
              "      <td>MDBPD0000</td>\n",
              "      <td>17V0346</td>\n",
              "      <td>7/24/2017</td>\n",
              "      <td>NaN</td>\n",
              "      <td>NON FATAL SHOOTING</td>\n",
              "      <td>NaN</td>\n",
              "      <td>NON FATAL SHOOTING</td>\n",
              "      <td>...</td>\n",
              "      <td>NaN</td>\n",
              "      <td>BLACK/HISPANIC</td>\n",
              "      <td>MALE</td>\n",
              "      <td>OPEN</td>\n",
              "      <td>NaN</td>\n",
              "      <td>OPEN</td>\n",
              "      <td>Open &amp; No Arrest-Unspecified</td>\n",
              "      <td>NaN</td>\n",
              "      <td>NaN</td>\n",
              "      <td>Non-Fatal</td>\n",
              "    </tr>\n",
              "  </tbody>\n",
              "</table>\n",
              "<p>5 rows × 32 columns</p>\n",
              "</div>\n",
              "    <div class=\"colab-df-buttons\">\n",
              "\n",
              "  <div class=\"colab-df-container\">\n",
              "    <button class=\"colab-df-convert\" onclick=\"convertToInteractive('df-a5aa4463-6fd9-428e-b6e7-cf50fbb020e3')\"\n",
              "            title=\"Convert this dataframe to an interactive table.\"\n",
              "            style=\"display:none;\">\n",
              "\n",
              "  <svg xmlns=\"http://www.w3.org/2000/svg\" height=\"24px\" viewBox=\"0 -960 960 960\">\n",
              "    <path d=\"M120-120v-720h720v720H120Zm60-500h600v-160H180v160Zm220 220h160v-160H400v160Zm0 220h160v-160H400v160ZM180-400h160v-160H180v160Zm440 0h160v-160H620v160ZM180-180h160v-160H180v160Zm440 0h160v-160H620v160Z\"/>\n",
              "  </svg>\n",
              "    </button>\n",
              "\n",
              "  <style>\n",
              "    .colab-df-container {\n",
              "      display:flex;\n",
              "      gap: 12px;\n",
              "    }\n",
              "\n",
              "    .colab-df-convert {\n",
              "      background-color: #E8F0FE;\n",
              "      border: none;\n",
              "      border-radius: 50%;\n",
              "      cursor: pointer;\n",
              "      display: none;\n",
              "      fill: #1967D2;\n",
              "      height: 32px;\n",
              "      padding: 0 0 0 0;\n",
              "      width: 32px;\n",
              "    }\n",
              "\n",
              "    .colab-df-convert:hover {\n",
              "      background-color: #E2EBFA;\n",
              "      box-shadow: 0px 1px 2px rgba(60, 64, 67, 0.3), 0px 1px 3px 1px rgba(60, 64, 67, 0.15);\n",
              "      fill: #174EA6;\n",
              "    }\n",
              "\n",
              "    .colab-df-buttons div {\n",
              "      margin-bottom: 4px;\n",
              "    }\n",
              "\n",
              "    [theme=dark] .colab-df-convert {\n",
              "      background-color: #3B4455;\n",
              "      fill: #D2E3FC;\n",
              "    }\n",
              "\n",
              "    [theme=dark] .colab-df-convert:hover {\n",
              "      background-color: #434B5C;\n",
              "      box-shadow: 0px 1px 3px 1px rgba(0, 0, 0, 0.15);\n",
              "      filter: drop-shadow(0px 1px 2px rgba(0, 0, 0, 0.3));\n",
              "      fill: #FFFFFF;\n",
              "    }\n",
              "  </style>\n",
              "\n",
              "    <script>\n",
              "      const buttonEl =\n",
              "        document.querySelector('#df-a5aa4463-6fd9-428e-b6e7-cf50fbb020e3 button.colab-df-convert');\n",
              "      buttonEl.style.display =\n",
              "        google.colab.kernel.accessAllowed ? 'block' : 'none';\n",
              "\n",
              "      async function convertToInteractive(key) {\n",
              "        const element = document.querySelector('#df-a5aa4463-6fd9-428e-b6e7-cf50fbb020e3');\n",
              "        const dataTable =\n",
              "          await google.colab.kernel.invokeFunction('convertToInteractive',\n",
              "                                                    [key], {});\n",
              "        if (!dataTable) return;\n",
              "\n",
              "        const docLinkHtml = 'Like what you see? Visit the ' +\n",
              "          '<a target=\"_blank\" href=https://colab.research.google.com/notebooks/data_table.ipynb>data table notebook</a>'\n",
              "          + ' to learn more about interactive tables.';\n",
              "        element.innerHTML = '';\n",
              "        dataTable['output_type'] = 'display_data';\n",
              "        await google.colab.output.renderOutput(dataTable, element);\n",
              "        const docLink = document.createElement('div');\n",
              "        docLink.innerHTML = docLinkHtml;\n",
              "        element.appendChild(docLink);\n",
              "      }\n",
              "    </script>\n",
              "  </div>\n",
              "\n",
              "\n",
              "<div id=\"df-2382de36-e8e6-4c83-a369-4a96d6c2c8ac\">\n",
              "  <button class=\"colab-df-quickchart\" onclick=\"quickchart('df-2382de36-e8e6-4c83-a369-4a96d6c2c8ac')\"\n",
              "            title=\"Suggest charts\"\n",
              "            style=\"display:none;\">\n",
              "\n",
              "<svg xmlns=\"http://www.w3.org/2000/svg\" height=\"24px\"viewBox=\"0 0 24 24\"\n",
              "     width=\"24px\">\n",
              "    <g>\n",
              "        <path d=\"M19 3H5c-1.1 0-2 .9-2 2v14c0 1.1.9 2 2 2h14c1.1 0 2-.9 2-2V5c0-1.1-.9-2-2-2zM9 17H7v-7h2v7zm4 0h-2V7h2v10zm4 0h-2v-4h2v4z\"/>\n",
              "    </g>\n",
              "</svg>\n",
              "  </button>\n",
              "\n",
              "<style>\n",
              "  .colab-df-quickchart {\n",
              "      --bg-color: #E8F0FE;\n",
              "      --fill-color: #1967D2;\n",
              "      --hover-bg-color: #E2EBFA;\n",
              "      --hover-fill-color: #174EA6;\n",
              "      --disabled-fill-color: #AAA;\n",
              "      --disabled-bg-color: #DDD;\n",
              "  }\n",
              "\n",
              "  [theme=dark] .colab-df-quickchart {\n",
              "      --bg-color: #3B4455;\n",
              "      --fill-color: #D2E3FC;\n",
              "      --hover-bg-color: #434B5C;\n",
              "      --hover-fill-color: #FFFFFF;\n",
              "      --disabled-bg-color: #3B4455;\n",
              "      --disabled-fill-color: #666;\n",
              "  }\n",
              "\n",
              "  .colab-df-quickchart {\n",
              "    background-color: var(--bg-color);\n",
              "    border: none;\n",
              "    border-radius: 50%;\n",
              "    cursor: pointer;\n",
              "    display: none;\n",
              "    fill: var(--fill-color);\n",
              "    height: 32px;\n",
              "    padding: 0;\n",
              "    width: 32px;\n",
              "  }\n",
              "\n",
              "  .colab-df-quickchart:hover {\n",
              "    background-color: var(--hover-bg-color);\n",
              "    box-shadow: 0 1px 2px rgba(60, 64, 67, 0.3), 0 1px 3px 1px rgba(60, 64, 67, 0.15);\n",
              "    fill: var(--button-hover-fill-color);\n",
              "  }\n",
              "\n",
              "  .colab-df-quickchart-complete:disabled,\n",
              "  .colab-df-quickchart-complete:disabled:hover {\n",
              "    background-color: var(--disabled-bg-color);\n",
              "    fill: var(--disabled-fill-color);\n",
              "    box-shadow: none;\n",
              "  }\n",
              "\n",
              "  .colab-df-spinner {\n",
              "    border: 2px solid var(--fill-color);\n",
              "    border-color: transparent;\n",
              "    border-bottom-color: var(--fill-color);\n",
              "    animation:\n",
              "      spin 1s steps(1) infinite;\n",
              "  }\n",
              "\n",
              "  @keyframes spin {\n",
              "    0% {\n",
              "      border-color: transparent;\n",
              "      border-bottom-color: var(--fill-color);\n",
              "      border-left-color: var(--fill-color);\n",
              "    }\n",
              "    20% {\n",
              "      border-color: transparent;\n",
              "      border-left-color: var(--fill-color);\n",
              "      border-top-color: var(--fill-color);\n",
              "    }\n",
              "    30% {\n",
              "      border-color: transparent;\n",
              "      border-left-color: var(--fill-color);\n",
              "      border-top-color: var(--fill-color);\n",
              "      border-right-color: var(--fill-color);\n",
              "    }\n",
              "    40% {\n",
              "      border-color: transparent;\n",
              "      border-right-color: var(--fill-color);\n",
              "      border-top-color: var(--fill-color);\n",
              "    }\n",
              "    60% {\n",
              "      border-color: transparent;\n",
              "      border-right-color: var(--fill-color);\n",
              "    }\n",
              "    80% {\n",
              "      border-color: transparent;\n",
              "      border-right-color: var(--fill-color);\n",
              "      border-bottom-color: var(--fill-color);\n",
              "    }\n",
              "    90% {\n",
              "      border-color: transparent;\n",
              "      border-bottom-color: var(--fill-color);\n",
              "    }\n",
              "  }\n",
              "</style>\n",
              "\n",
              "  <script>\n",
              "    async function quickchart(key) {\n",
              "      const quickchartButtonEl =\n",
              "        document.querySelector('#' + key + ' button');\n",
              "      quickchartButtonEl.disabled = true;  // To prevent multiple clicks.\n",
              "      quickchartButtonEl.classList.add('colab-df-spinner');\n",
              "      try {\n",
              "        const charts = await google.colab.kernel.invokeFunction(\n",
              "            'suggestCharts', [key], {});\n",
              "      } catch (error) {\n",
              "        console.error('Error during call to suggestCharts:', error);\n",
              "      }\n",
              "      quickchartButtonEl.classList.remove('colab-df-spinner');\n",
              "      quickchartButtonEl.classList.add('colab-df-quickchart-complete');\n",
              "    }\n",
              "    (() => {\n",
              "      let quickchartButtonEl =\n",
              "        document.querySelector('#df-2382de36-e8e6-4c83-a369-4a96d6c2c8ac button');\n",
              "      quickchartButtonEl.style.display =\n",
              "        google.colab.kernel.accessAllowed ? 'block' : 'none';\n",
              "    })();\n",
              "  </script>\n",
              "</div>\n",
              "\n",
              "    </div>\n",
              "  </div>\n"
            ],
            "application/vnd.google.colaboratory.intrinsic+json": {
              "type": "dataframe",
              "variable_name": "data"
            }
          },
          "metadata": {},
          "execution_count": 105
        }
      ],
      "source": [
        "#import library and load dataset\n",
        "import pandas as pd\n",
        "data = pd.read_csv(r'https://raw.githubusercontent.com/AI4ALL-Class8-Group2/offensive-standard-data/main/offenses_5pd_fatality.csv')\n",
        "\n",
        "\n",
        "# show the first 5 rows of the data\n",
        "data.head()"
      ]
    },
    {
      "cell_type": "code",
      "execution_count": 106,
      "metadata": {
        "id": "abolTbYV3SUJ",
        "colab": {
          "base_uri": "https://localhost:8080/"
        },
        "outputId": "528d0f92-941c-4b8f-a376-5a63c9a37cb1"
      },
      "outputs": [
        {
          "output_type": "stream",
          "name": "stdout",
          "text": [
            "(18616, 32)\n"
          ]
        }
      ],
      "source": [
        "# show number of rows and columns\n",
        "print(data.shape)"
      ]
    },
    {
      "cell_type": "code",
      "execution_count": 107,
      "metadata": {
        "id": "iUTOaFhA3buE",
        "colab": {
          "base_uri": "https://localhost:8080/"
        },
        "outputId": "43a1a6be-ce80-42ea-e674-f8658c6f87cf"
      },
      "outputs": [
        {
          "output_type": "stream",
          "name": "stdout",
          "text": [
            "<class 'pandas.core.frame.DataFrame'>\n",
            "RangeIndex: 18616 entries, 0 to 18615\n",
            "Data columns (total 32 columns):\n",
            " #   Column                    Non-Null Count  Dtype  \n",
            "---  ------                    --------------  -----  \n",
            " 0   row_hash                  18616 non-null  object \n",
            " 1   source                    18616 non-null  object \n",
            " 2   agency_name               18616 non-null  object \n",
            " 3   agency_ori                18616 non-null  object \n",
            " 4   agency_incident_id        18616 non-null  object \n",
            " 5   occurred_date             18610 non-null  object \n",
            " 6   occurred_time             13433 non-null  object \n",
            " 7   offense_category          18616 non-null  object \n",
            " 8   top_ucr_classification    9748 non-null   object \n",
            " 9   top_local_classification  14640 non-null  object \n",
            " 10  nibrs_code                0 non-null      float64\n",
            " 11  weapon                    16223 non-null  object \n",
            " 12  firearm_ind               18616 non-null  object \n",
            " 13  offense_group             18616 non-null  object \n",
            " 14  domestic_violence_ind     1795 non-null   object \n",
            " 15  family_violence_ind       0 non-null      float64\n",
            " 16  gang_activity_ind         10062 non-null  object \n",
            " 17  relationship_to_offender  0 non-null      float64\n",
            " 18  circumstance              737 non-null    object \n",
            " 19  inside_outside            1789 non-null   object \n",
            " 20  victim_age                17018 non-null  float64\n",
            " 21  victim_race               17183 non-null  object \n",
            " 22  victim_ethnicity          9676 non-null   object \n",
            " 23  victim_race_condensed     18616 non-null  object \n",
            " 24  victim_sex                17188 non-null  object \n",
            " 25  case_status               16981 non-null  object \n",
            " 26  arrest_ind                12678 non-null  object \n",
            " 27  clearance_status          18162 non-null  object \n",
            " 28  clearance_group           18616 non-null  object \n",
            " 29  clearance_date            342 non-null    object \n",
            " 30  arrest_date               0 non-null      float64\n",
            " 31  Fatality Status           18616 non-null  object \n",
            "dtypes: float64(5), object(27)\n",
            "memory usage: 4.5+ MB\n",
            "None\n"
          ]
        }
      ],
      "source": [
        "# show data info\n",
        "print(data.info())"
      ]
    },
    {
      "cell_type": "code",
      "execution_count": 108,
      "metadata": {
        "id": "NjTVfbyp3fPz",
        "colab": {
          "base_uri": "https://localhost:8080/"
        },
        "outputId": "caca6836-79b8-4d7b-917b-5f11a5caff1d"
      },
      "outputs": [
        {
          "output_type": "stream",
          "name": "stdout",
          "text": [
            "Index(['row_hash', 'source', 'agency_name', 'agency_ori', 'agency_incident_id',\n",
            "       'occurred_date', 'occurred_time', 'offense_category',\n",
            "       'top_ucr_classification', 'top_local_classification', 'nibrs_code',\n",
            "       'weapon', 'firearm_ind', 'offense_group', 'domestic_violence_ind',\n",
            "       'family_violence_ind', 'gang_activity_ind', 'relationship_to_offender',\n",
            "       'circumstance', 'inside_outside', 'victim_age', 'victim_race',\n",
            "       'victim_ethnicity', 'victim_race_condensed', 'victim_sex',\n",
            "       'case_status', 'arrest_ind', 'clearance_status', 'clearance_group',\n",
            "       'clearance_date', 'arrest_date', 'Fatality Status'],\n",
            "      dtype='object')\n"
          ]
        }
      ],
      "source": [
        "# show feature names\n",
        "print(data.keys())"
      ]
    },
    {
      "cell_type": "code",
      "execution_count": 109,
      "metadata": {
        "id": "kycy4_J-60qU",
        "colab": {
          "base_uri": "https://localhost:8080/"
        },
        "outputId": "7c41b6c5-e8d3-474d-cfb9-bc796ae13f44"
      },
      "outputs": [
        {
          "output_type": "stream",
          "name": "stdout",
          "text": [
            "(18616, 32)\n",
            "(0, 32)\n"
          ]
        }
      ],
      "source": [
        "# delete rows with missing values\n",
        "print(data.shape)\n",
        "print(data.dropna().shape)"
      ]
    },
    {
      "cell_type": "code",
      "execution_count": 110,
      "metadata": {
        "id": "JWlSH9rw55VV",
        "colab": {
          "base_uri": "https://localhost:8080/",
          "height": 116
        },
        "outputId": "46418a50-6abf-47cb-d273-40d7b914332a"
      },
      "outputs": [
        {
          "output_type": "execute_result",
          "data": {
            "text/plain": [
              "Empty DataFrame\n",
              "Columns: [row_hash, source, agency_name, agency_ori, agency_incident_id, occurred_date, occurred_time, offense_category, top_ucr_classification, top_local_classification, nibrs_code, weapon, firearm_ind, offense_group, domestic_violence_ind, family_violence_ind, gang_activity_ind, relationship_to_offender, circumstance, inside_outside, victim_age, victim_race, victim_ethnicity, victim_race_condensed, victim_sex, case_status, arrest_ind, clearance_status, clearance_group, clearance_date, arrest_date, Fatality Status]\n",
              "Index: []\n",
              "\n",
              "[0 rows x 32 columns]"
            ],
            "text/html": [
              "\n",
              "  <div id=\"df-d8478e8b-792e-42a7-884a-192448eaefbe\" class=\"colab-df-container\">\n",
              "    <div>\n",
              "<style scoped>\n",
              "    .dataframe tbody tr th:only-of-type {\n",
              "        vertical-align: middle;\n",
              "    }\n",
              "\n",
              "    .dataframe tbody tr th {\n",
              "        vertical-align: top;\n",
              "    }\n",
              "\n",
              "    .dataframe thead th {\n",
              "        text-align: right;\n",
              "    }\n",
              "</style>\n",
              "<table border=\"1\" class=\"dataframe\">\n",
              "  <thead>\n",
              "    <tr style=\"text-align: right;\">\n",
              "      <th></th>\n",
              "      <th>row_hash</th>\n",
              "      <th>source</th>\n",
              "      <th>agency_name</th>\n",
              "      <th>agency_ori</th>\n",
              "      <th>agency_incident_id</th>\n",
              "      <th>occurred_date</th>\n",
              "      <th>occurred_time</th>\n",
              "      <th>offense_category</th>\n",
              "      <th>top_ucr_classification</th>\n",
              "      <th>top_local_classification</th>\n",
              "      <th>...</th>\n",
              "      <th>victim_ethnicity</th>\n",
              "      <th>victim_race_condensed</th>\n",
              "      <th>victim_sex</th>\n",
              "      <th>case_status</th>\n",
              "      <th>arrest_ind</th>\n",
              "      <th>clearance_status</th>\n",
              "      <th>clearance_group</th>\n",
              "      <th>clearance_date</th>\n",
              "      <th>arrest_date</th>\n",
              "      <th>Fatality Status</th>\n",
              "    </tr>\n",
              "  </thead>\n",
              "  <tbody>\n",
              "  </tbody>\n",
              "</table>\n",
              "<p>0 rows × 32 columns</p>\n",
              "</div>\n",
              "    <div class=\"colab-df-buttons\">\n",
              "\n",
              "  <div class=\"colab-df-container\">\n",
              "    <button class=\"colab-df-convert\" onclick=\"convertToInteractive('df-d8478e8b-792e-42a7-884a-192448eaefbe')\"\n",
              "            title=\"Convert this dataframe to an interactive table.\"\n",
              "            style=\"display:none;\">\n",
              "\n",
              "  <svg xmlns=\"http://www.w3.org/2000/svg\" height=\"24px\" viewBox=\"0 -960 960 960\">\n",
              "    <path d=\"M120-120v-720h720v720H120Zm60-500h600v-160H180v160Zm220 220h160v-160H400v160Zm0 220h160v-160H400v160ZM180-400h160v-160H180v160Zm440 0h160v-160H620v160ZM180-180h160v-160H180v160Zm440 0h160v-160H620v160Z\"/>\n",
              "  </svg>\n",
              "    </button>\n",
              "\n",
              "  <style>\n",
              "    .colab-df-container {\n",
              "      display:flex;\n",
              "      gap: 12px;\n",
              "    }\n",
              "\n",
              "    .colab-df-convert {\n",
              "      background-color: #E8F0FE;\n",
              "      border: none;\n",
              "      border-radius: 50%;\n",
              "      cursor: pointer;\n",
              "      display: none;\n",
              "      fill: #1967D2;\n",
              "      height: 32px;\n",
              "      padding: 0 0 0 0;\n",
              "      width: 32px;\n",
              "    }\n",
              "\n",
              "    .colab-df-convert:hover {\n",
              "      background-color: #E2EBFA;\n",
              "      box-shadow: 0px 1px 2px rgba(60, 64, 67, 0.3), 0px 1px 3px 1px rgba(60, 64, 67, 0.15);\n",
              "      fill: #174EA6;\n",
              "    }\n",
              "\n",
              "    .colab-df-buttons div {\n",
              "      margin-bottom: 4px;\n",
              "    }\n",
              "\n",
              "    [theme=dark] .colab-df-convert {\n",
              "      background-color: #3B4455;\n",
              "      fill: #D2E3FC;\n",
              "    }\n",
              "\n",
              "    [theme=dark] .colab-df-convert:hover {\n",
              "      background-color: #434B5C;\n",
              "      box-shadow: 0px 1px 3px 1px rgba(0, 0, 0, 0.15);\n",
              "      filter: drop-shadow(0px 1px 2px rgba(0, 0, 0, 0.3));\n",
              "      fill: #FFFFFF;\n",
              "    }\n",
              "  </style>\n",
              "\n",
              "    <script>\n",
              "      const buttonEl =\n",
              "        document.querySelector('#df-d8478e8b-792e-42a7-884a-192448eaefbe button.colab-df-convert');\n",
              "      buttonEl.style.display =\n",
              "        google.colab.kernel.accessAllowed ? 'block' : 'none';\n",
              "\n",
              "      async function convertToInteractive(key) {\n",
              "        const element = document.querySelector('#df-d8478e8b-792e-42a7-884a-192448eaefbe');\n",
              "        const dataTable =\n",
              "          await google.colab.kernel.invokeFunction('convertToInteractive',\n",
              "                                                    [key], {});\n",
              "        if (!dataTable) return;\n",
              "\n",
              "        const docLinkHtml = 'Like what you see? Visit the ' +\n",
              "          '<a target=\"_blank\" href=https://colab.research.google.com/notebooks/data_table.ipynb>data table notebook</a>'\n",
              "          + ' to learn more about interactive tables.';\n",
              "        element.innerHTML = '';\n",
              "        dataTable['output_type'] = 'display_data';\n",
              "        await google.colab.output.renderOutput(dataTable, element);\n",
              "        const docLink = document.createElement('div');\n",
              "        docLink.innerHTML = docLinkHtml;\n",
              "        element.appendChild(docLink);\n",
              "      }\n",
              "    </script>\n",
              "  </div>\n",
              "\n",
              "\n",
              "    </div>\n",
              "  </div>\n"
            ],
            "application/vnd.google.colaboratory.intrinsic+json": {
              "type": "dataframe"
            }
          },
          "metadata": {},
          "execution_count": 110
        }
      ],
      "source": [
        "# duplicate rows\n",
        "data[data.duplicated(keep=False)]"
      ]
    },
    {
      "cell_type": "code",
      "execution_count": 111,
      "metadata": {
        "id": "6q-AS1Cy7K7L",
        "colab": {
          "base_uri": "https://localhost:8080/"
        },
        "outputId": "d1010a72-a180-4783-bb47-95c148b49cc8"
      },
      "outputs": [
        {
          "output_type": "stream",
          "name": "stdout",
          "text": [
            "(18616, 32)\n",
            "(18616, 32)\n"
          ]
        }
      ],
      "source": [
        "# drop duplicate rows\n",
        "print(data.shape)\n",
        "data.drop_duplicates(inplace=True)\n",
        "print(data.shape)"
      ]
    },
    {
      "cell_type": "code",
      "source": [
        "# replace \"m\" with \"male\"\n",
        "data['victim_sex'] = data['victim_sex']\\\n",
        "    .apply(lambda n_group: 'MALE' if n_group == 'M' else n_group)\n",
        "data['victim_sex'].value_counts()"
      ],
      "metadata": {
        "id": "g_mkDULcCcAP",
        "colab": {
          "base_uri": "https://localhost:8080/"
        },
        "outputId": "0eb8ee43-6266-4a99-b7ce-83f343118e73"
      },
      "execution_count": 112,
      "outputs": [
        {
          "output_type": "execute_result",
          "data": {
            "text/plain": [
              "MALE             15401\n",
              "F                 1255\n",
              "FEMALE             486\n",
              "OTH                 24\n",
              "X                   14\n",
              "UNCLEAR              4\n",
              "U                    3\n",
              "TRANSGENDERED        1\n",
              "Name: victim_sex, dtype: int64"
            ]
          },
          "metadata": {},
          "execution_count": 112
        }
      ]
    },
    {
      "cell_type": "code",
      "source": [
        "# replace \"f\" with \"female\"\n",
        "data['victim_sex'] = data['victim_sex']\\\n",
        "    .apply(lambda n_group: 'FEMALE' if n_group == 'F' else n_group)\n",
        "data['victim_sex'].value_counts()\n"
      ],
      "metadata": {
        "id": "_ZBfp252DE9U",
        "colab": {
          "base_uri": "https://localhost:8080/"
        },
        "outputId": "868ff5a2-4395-4b98-fc47-c8dd6002047f"
      },
      "execution_count": 113,
      "outputs": [
        {
          "output_type": "execute_result",
          "data": {
            "text/plain": [
              "MALE             15401\n",
              "FEMALE            1741\n",
              "OTH                 24\n",
              "X                   14\n",
              "UNCLEAR              4\n",
              "U                    3\n",
              "TRANSGENDERED        1\n",
              "Name: victim_sex, dtype: int64"
            ]
          },
          "metadata": {},
          "execution_count": 113
        }
      ]
    },
    {
      "cell_type": "code",
      "execution_count": 114,
      "metadata": {
        "id": "ziausvYkjB04",
        "colab": {
          "base_uri": "https://localhost:8080/",
          "height": 423
        },
        "outputId": "c4351460-a2da-42de-d614-0af9aded0230"
      },
      "outputs": [
        {
          "output_type": "execute_result",
          "data": {
            "text/plain": [
              "<Axes: ylabel='victim_sex'>"
            ]
          },
          "metadata": {},
          "execution_count": 114
        },
        {
          "output_type": "display_data",
          "data": {
            "text/plain": [
              "<Figure size 640x480 with 1 Axes>"
            ],
            "image/png": "[encoded data removed]"
          },
          "metadata": {}
        }
      ],
      "source": [
        "# pie chart for victim_sex\n",
        "data['victim_sex'].str.lower().value_counts(dropna=False).plot.pie()"
      ]
    },
    {
      "cell_type": "code",
      "source": [
        "#delete  columns not relevant to research\n",
        "data = data.drop(data.columns[[0,1,3,4,8,9,10,12,22]], axis=1)\n",
        "# missing values\n",
        "print(data.isnull().sum())"
      ],
      "metadata": {
        "id": "1jHwczHIFk-5",
        "colab": {
          "base_uri": "https://localhost:8080/"
        },
        "outputId": "4effc838-7bb6-4688-c69c-390d2c7e0ed8"
      },
      "execution_count": 115,
      "outputs": [
        {
          "output_type": "stream",
          "name": "stdout",
          "text": [
            "agency_name                     0\n",
            "occurred_date                   6\n",
            "occurred_time                5183\n",
            "offense_category                0\n",
            "weapon                       2393\n",
            "offense_group                   0\n",
            "domestic_violence_ind       16821\n",
            "family_violence_ind         18616\n",
            "gang_activity_ind            8554\n",
            "relationship_to_offender    18616\n",
            "circumstance                17879\n",
            "inside_outside              16827\n",
            "victim_age                   1598\n",
            "victim_race                  1433\n",
            "victim_race_condensed           0\n",
            "victim_sex                   1428\n",
            "case_status                  1635\n",
            "arrest_ind                   5938\n",
            "clearance_status              454\n",
            "clearance_group                 0\n",
            "clearance_date              18274\n",
            "arrest_date                 18616\n",
            "Fatality Status                 0\n",
            "dtype: int64\n"
          ]
        }
      ]
    },
    {
      "cell_type": "code",
      "source": [
        "#delete  columns with missing values > .75\n",
        "data.drop([ 'domestic_violence_ind','family_violence_ind','relationship_to_offender','circumstance',\n",
        "'inside_outside'], axis=1, inplace=True)\n",
        "print(data.isnull().sum())"
      ],
      "metadata": {
        "colab": {
          "base_uri": "https://localhost:8080/"
        },
        "id": "DlyuMQ35qjok",
        "outputId": "8eca25d7-6fc6-4985-d40f-e41ff8126d65"
      },
      "execution_count": 116,
      "outputs": [
        {
          "output_type": "stream",
          "name": "stdout",
          "text": [
            "agency_name                  0\n",
            "occurred_date                6\n",
            "occurred_time             5183\n",
            "offense_category             0\n",
            "weapon                    2393\n",
            "offense_group                0\n",
            "gang_activity_ind         8554\n",
            "victim_age                1598\n",
            "victim_race               1433\n",
            "victim_race_condensed        0\n",
            "victim_sex                1428\n",
            "case_status               1635\n",
            "arrest_ind                5938\n",
            "clearance_status           454\n",
            "clearance_group              0\n",
            "clearance_date           18274\n",
            "arrest_date              18616\n",
            "Fatality Status              0\n",
            "dtype: int64\n"
          ]
        }
      ]
    },
    {
      "cell_type": "code",
      "source": [
        "# quasi constant values\n",
        "for val in data.columns.sort_values():\n",
        "    if (len(data[val].unique()) < 3):\n",
        "        print(data[val].value_counts())"
      ],
      "metadata": {
        "id": "NfpyHbXMFpt_",
        "colab": {
          "base_uri": "https://localhost:8080/"
        },
        "outputId": "cf9a7204-c4ae-402a-88e5-9422a3079cc6"
      },
      "execution_count": 117,
      "outputs": [
        {
          "output_type": "stream",
          "name": "stdout",
          "text": [
            "Non-Fatal    13544\n",
            "Fatal         5072\n",
            "Name: Fatality Status, dtype: int64\n",
            "Series([], Name: arrest_date, dtype: int64)\n"
          ]
        }
      ]
    },
    {
      "cell_type": "markdown",
      "source": [
        "**Drop Newark-PD**\n",
        "because it contained over 90% of missing values from clearance_status,weapon,victim_age, victim_sex, victim_race, case_status."
      ],
      "metadata": {
        "id": "TaNlkMkf87Pu"
      }
    },
    {
      "cell_type": "code",
      "source": [
        "#drop Newark-PD\n",
        "data.drop(index=data[data['agency_name'] =='NEWARK-PD'].index, inplace=True)\n",
        "print(data.isnull().sum())"
      ],
      "metadata": {
        "colab": {
          "base_uri": "https://localhost:8080/"
        },
        "id": "8uYeGaE58gPy",
        "outputId": "7370a4d4-062f-49a5-a3b3-d15feec17ab7"
      },
      "execution_count": 118,
      "outputs": [
        {
          "output_type": "stream",
          "name": "stdout",
          "text": [
            "agency_name                  0\n",
            "occurred_date                0\n",
            "occurred_time             5171\n",
            "offense_category             0\n",
            "weapon                      24\n",
            "offense_group                0\n",
            "gang_activity_ind         7091\n",
            "victim_age                 155\n",
            "victim_race                  6\n",
            "victim_race_condensed        0\n",
            "victim_sex                   5\n",
            "case_status                680\n",
            "arrest_ind                5938\n",
            "clearance_status             0\n",
            "clearance_group              0\n",
            "clearance_date           15905\n",
            "arrest_date              16247\n",
            "Fatality Status              0\n",
            "dtype: int64\n"
          ]
        }
      ]
    },
    {
      "cell_type": "code",
      "source": [
        "# impute missing values mode and  mean\n",
        "data['victim_age'].fillna(round(data['victim_age'].mean(), 2), inplace=True)\n",
        "data['victim_sex'].fillna(data['victim_sex'].mode()[0], inplace=True)\n",
        "data['weapon'].fillna(data['weapon'].mode()[0], inplace=True)\n",
        "data['victim_race'].fillna(data['victim_race'].mode()[0], inplace=True)\n",
        "print(data.isnull().sum())"
      ],
      "metadata": {
        "id": "N16FLDqGvz-Y",
        "colab": {
          "base_uri": "https://localhost:8080/"
        },
        "outputId": "deb37f39-dc11-484a-c877-d39b7cf1537a"
      },
      "execution_count": 119,
      "outputs": [
        {
          "output_type": "stream",
          "name": "stdout",
          "text": [
            "agency_name                  0\n",
            "occurred_date                0\n",
            "occurred_time             5171\n",
            "offense_category             0\n",
            "weapon                       0\n",
            "offense_group                0\n",
            "gang_activity_ind         7091\n",
            "victim_age                   0\n",
            "victim_race                  0\n",
            "victim_race_condensed        0\n",
            "victim_sex                   0\n",
            "case_status                680\n",
            "arrest_ind                5938\n",
            "clearance_status             0\n",
            "clearance_group              0\n",
            "clearance_date           15905\n",
            "arrest_date              16247\n",
            "Fatality Status              0\n",
            "dtype: int64\n"
          ]
        }
      ]
    },
    {
      "cell_type": "markdown",
      "source": [
        "# One-Hot Encoding"
      ],
      "metadata": {
        "id": "y9WFfzUP--fE"
      }
    },
    {
      "cell_type": "code",
      "source": [
        "#one hot encoding of categorical variables\n",
        "from sklearn.preprocessing import OneHotEncoder\n",
        "from sklearn.compose import make_column_transformer\n",
        "\n",
        "transformer = make_column_transformer(\n",
        "    (OneHotEncoder(), ['offense_group', 'Fatality Status','agency_name','victim_race','victim_sex']),\n",
        "    remainder='passthrough')\n",
        "\n",
        "transformed = transformer.fit_transform(data)\n",
        "transformed_df = pd.DataFrame(transformed, columns=transformer.get_feature_names_out())\n",
        "print(transformed_df.head())"
      ],
      "metadata": {
        "id": "BjYgqWiP112G",
        "colab": {
          "base_uri": "https://localhost:8080/"
        },
        "outputId": "ed7cad42-6e10-496d-90eb-a0aec7c05d47"
      },
      "execution_count": 120,
      "outputs": [
        {
          "output_type": "stream",
          "name": "stdout",
          "text": [
            "  onehotencoder__offense_group_Agg Assault - Gun  \\\n",
            "0                                            0.0   \n",
            "1                                            0.0   \n",
            "2                                            0.0   \n",
            "3                                            0.0   \n",
            "4                                            0.0   \n",
            "\n",
            "  onehotencoder__offense_group_Homicide - Gun  \\\n",
            "0                                         0.0   \n",
            "1                                         0.0   \n",
            "2                                         0.0   \n",
            "3                                         0.0   \n",
            "4                                         0.0   \n",
            "\n",
            "  onehotencoder__offense_group_Non-Fatal Shooting  \\\n",
            "0                                             1.0   \n",
            "1                                             1.0   \n",
            "2                                             1.0   \n",
            "3                                             1.0   \n",
            "4                                             1.0   \n",
            "\n",
            "  onehotencoder__Fatality Status_Fatal  \\\n",
            "0                                  0.0   \n",
            "1                                  0.0   \n",
            "2                                  0.0   \n",
            "3                                  0.0   \n",
            "4                                  0.0   \n",
            "\n",
            "  onehotencoder__Fatality Status_Non-Fatal  \\\n",
            "0                                      1.0   \n",
            "1                                      1.0   \n",
            "2                                      1.0   \n",
            "3                                      1.0   \n",
            "4                                      1.0   \n",
            "\n",
            "  onehotencoder__agency_name_BALTIMORE-PD  \\\n",
            "0                                     1.0   \n",
            "1                                     1.0   \n",
            "2                                     1.0   \n",
            "3                                     1.0   \n",
            "4                                     1.0   \n",
            "\n",
            "  onehotencoder__agency_name_BOSTON-PD  \\\n",
            "0                                  0.0   \n",
            "1                                  0.0   \n",
            "2                                  0.0   \n",
            "3                                  0.0   \n",
            "4                                  0.0   \n",
            "\n",
            "  onehotencoder__agency_name_LOS-ANGELES-PD  \\\n",
            "0                                       0.0   \n",
            "1                                       0.0   \n",
            "2                                       0.0   \n",
            "3                                       0.0   \n",
            "4                                       0.0   \n",
            "\n",
            "  onehotencoder__agency_name_SAN-FRANCISCO-PD onehotencoder__victim_race_A  \\\n",
            "0                                         0.0                          0.0   \n",
            "1                                         0.0                          0.0   \n",
            "2                                         0.0                          0.0   \n",
            "3                                         0.0                          0.0   \n",
            "4                                         0.0                          0.0   \n",
            "\n",
            "   ... remainder__weapon remainder__gang_activity_ind remainder__victim_age  \\\n",
            "0  ...           FIREARM                          NaN                  22.0   \n",
            "1  ...           FIREARM                          NaN                  53.0   \n",
            "2  ...           FIREARM                          NaN                  19.0   \n",
            "3  ...           FIREARM                          NaN                  29.0   \n",
            "4  ...           FIREARM                          NaN                  22.0   \n",
            "\n",
            "  remainder__victim_race_condensed remainder__case_status  \\\n",
            "0                   BLACK/HISPANIC                   OPEN   \n",
            "1                   BLACK/HISPANIC                   OPEN   \n",
            "2                   BLACK/HISPANIC                   OPEN   \n",
            "3                   BLACK/HISPANIC                   OPEN   \n",
            "4                   BLACK/HISPANIC                   OPEN   \n",
            "\n",
            "  remainder__arrest_ind remainder__clearance_status  \\\n",
            "0                   NaN                        OPEN   \n",
            "1                   NaN                        OPEN   \n",
            "2                   NaN                        OPEN   \n",
            "3                   NaN                        OPEN   \n",
            "4                   NaN                        OPEN   \n",
            "\n",
            "     remainder__clearance_group remainder__clearance_date  \\\n",
            "0  Open & No Arrest-Unspecified                       NaN   \n",
            "1  Open & No Arrest-Unspecified                       NaN   \n",
            "2  Open & No Arrest-Unspecified                       NaN   \n",
            "3  Open & No Arrest-Unspecified                       NaN   \n",
            "4  Open & No Arrest-Unspecified                       NaN   \n",
            "\n",
            "  remainder__arrest_date  \n",
            "0                    NaN  \n",
            "1                    NaN  \n",
            "2                    NaN  \n",
            "3                    NaN  \n",
            "4                    NaN  \n",
            "\n",
            "[5 rows x 48 columns]\n"
          ]
        }
      ]
    },
    {
      "cell_type": "code",
      "source": [
        "#violin plot\n",
        "import seaborn\n",
        "\n",
        "seaborn.set(style = 'whitegrid')\n",
        "\n",
        "seaborn.violinplot(x ='Fatality Status', data = data)"
      ],
      "metadata": {
        "colab": {
          "base_uri": "https://localhost:8080/",
          "height": 475
        },
        "id": "uXTI5pne0etY",
        "outputId": "427c159c-fed0-4aae-b943-f4a4ad6f0146"
      },
      "execution_count": 121,
      "outputs": [
        {
          "output_type": "execute_result",
          "data": {
            "text/plain": [
              "<Axes: xlabel='Fatality Status'>"
            ]
          },
          "metadata": {},
          "execution_count": 121
        },
        {
          "output_type": "display_data",
          "data": {
            "text/plain": [
              "<Figure size 640x480 with 1 Axes>"
            ],
            "image/png": "[encoded data removed]"
          },
          "metadata": {}
        }
      ]
    },
    {
      "cell_type": "code",
      "source": [
        "# Import libraries\n",
        "import matplotlib.pyplot as plt\n",
        "import numpy as np\n",
        "# Creating plot\n",
        "data.boxplot()\n",
        "\n",
        "# show plot\n",
        "plt.show()"
      ],
      "metadata": {
        "colab": {
          "base_uri": "https://localhost:8080/",
          "height": 435
        },
        "id": "VbW2_ABm1Dfm",
        "outputId": "8f362f72-f6d9-4f35-dd83-b3979582f83e"
      },
      "execution_count": 122,
      "outputs": [
        {
          "output_type": "display_data",
          "data": {
            "text/plain": [
              "<Figure size 640x480 with 1 Axes>"
            ],
            "image/png": "[encoded data removed]"
          },
          "metadata": {}
        }
      ]
    },
    {
      "cell_type": "code",
      "source": [
        "# pie chart\n",
        "data['Fatality Status'].str.lower().value_counts(dropna=False).plot.pie()"
      ],
      "metadata": {
        "id": "wn8hZLu-No4b",
        "colab": {
          "base_uri": "https://localhost:8080/",
          "height": 423
        },
        "outputId": "ea2799fb-8097-49b1-bafc-7284df4b10fc"
      },
      "execution_count": 123,
      "outputs": [
        {
          "output_type": "execute_result",
          "data": {
            "text/plain": [
              "<Axes: ylabel='Fatality Status'>"
            ]
          },
          "metadata": {},
          "execution_count": 123
        },
        {
          "output_type": "display_data",
          "data": {
            "text/plain": [
              "<Figure size 640x480 with 1 Axes>"
            ],
            "image/png": "[encoded data removed]"
          },
          "metadata": {}
        }
      ]
    },
    {
      "cell_type": "markdown",
      "source": [
        "# Train Test Split"
      ],
      "metadata": {
        "id": "5U1aQSiW_u0P"
      }
    },
    {
      "cell_type": "code",
      "source": [
        "# train test split\n",
        "from sklearn.model_selection import train_test_split\n",
        "\n",
        "X_train, X_test, y_train, y_test = train_test_split(data.drop(['Fatality Status'], axis=1), data['Fatality Status'], test_size=.2, random_state=42)\n",
        "\n",
        "print(X_train.shape)\n",
        "print(X_test.shape)"
      ],
      "metadata": {
        "colab": {
          "base_uri": "https://localhost:8080/"
        },
        "id": "114U3FgO_tpg",
        "outputId": "072c5970-5d08-4b6c-8aa2-94ca052cf410"
      },
      "execution_count": 124,
      "outputs": [
        {
          "output_type": "stream",
          "name": "stdout",
          "text": [
            "(12997, 17)\n",
            "(3250, 17)\n"
          ]
        }
      ]
    }
  ],
  "metadata": {
    "colab": {
      "provenance": [],
      "include_colab_link": true
    },
    "kernelspec": {
      "display_name": "Python 3",
      "name": "python3"
    },
    "language_info": {
      "name": "python"
    }
  },
  "nbformat": 4,
  "nbformat_minor": 0
}