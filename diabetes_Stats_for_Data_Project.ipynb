{
  "cells": [
    {
      "cell_type": "markdown",
      "metadata": {
        "id": "view-in-github",
        "colab_type": "text"
      },
      "source": [
        "<a href=\"https://colab.research.google.com/github/BeautyKabore/Projects/blob/main/diabetes_Stats_for_Data_Project.ipynb\" target=\"_parent\"><img src=\"https://colab.research.google.com/assets/colab-badge.svg\" alt=\"Open In Colab\"/></a>"
      ]
    },
    {
      "cell_type": "markdown",
      "id": "268ad749",
      "metadata": {
        "id": "268ad749"
      },
      "source": [
        "# Week 03 - Data Prep and Exploratory Data Analysis (EDA)\n",
        "\n",
        "Beauty Kabore"
      ]
    },
    {
      "cell_type": "code",
      "source": [],
      "metadata": {
        "id": "aiQihQy_ZuHm"
      },
      "id": "aiQihQy_ZuHm",
      "execution_count": null,
      "outputs": []
    },
    {
      "cell_type": "markdown",
      "source": [
        "## Personal Project\n",
        "\n",
        "Diabetes\n",
        "\n",
        "Associated Task - Regression\n",
        "\n",
        "*Project Part I\n",
        "\n",
        "This project explores the Diabetes Dataset from Scikit Learn. It will implement varies data analysis techniques and concepts using Python."
      ],
      "metadata": {
        "id": "ojyIDptwB7Iy"
      },
      "id": "ojyIDptwB7Iy"
    },
    {
      "cell_type": "markdown",
      "id": "c41cc0a6",
      "metadata": {
        "id": "c41cc0a6"
      },
      "source": [
        "## Functions, Methods, and Attributes\n",
        "\n",
        "* df.shape: attribute; values that are precomputed\n",
        "* df.head(): method; values are computed when called; belongs to a class, package, module, an object\n",
        "* my_func(): function; usually created by programmer; set of instructions that perform a task"
      ]
    },
    {
      "cell_type": "markdown",
      "id": "ec7572c3",
      "metadata": {
        "id": "ec7572c3"
      },
      "source": [
        "## Data Prep\n",
        "\n",
        "###  Data Resources\n",
        "\n",
        "Scikit Learn\n",
        "\n",
        "* https://scikit-learn.org/stable/modules/generated/sklearn.datasets.load_diabetes.html#sklearn.datasets.load_diabetes\n",
        "\n"
      ]
    },
    {
      "cell_type": "markdown",
      "source": [
        "Dowload Dataset from Scikit Learn"
      ],
      "metadata": {
        "id": "l9c8XQVtqMEO"
      },
      "id": "l9c8XQVtqMEO"
    },
    {
      "cell_type": "code",
      "source": [
        "# sklearn example\n",
        "\n",
        "#load diabetes dataset\n",
        "from sklearn.datasets import load_diabetes\n",
        "\n",
        "diabetes = load_diabetes()\n",
        "diabetes"
      ],
      "metadata": {
        "colab": {
          "base_uri": "https://localhost:8080/"
        },
        "id": "21FxVtPtzXjm",
        "outputId": "e89a2074-4f40-40f6-bade-e394edaa7fd0"
      },
      "id": "21FxVtPtzXjm",
      "execution_count": null,
      "outputs": [
        {
          "output_type": "execute_result",
          "data": {
            "text/plain": [
              "{'data': array([[ 0.03807591,  0.05068012,  0.06169621, ..., -0.00259226,\n",
              "          0.01990749, -0.01764613],\n",
              "        [-0.00188202, -0.04464164, -0.05147406, ..., -0.03949338,\n",
              "         -0.06833155, -0.09220405],\n",
              "        [ 0.08529891,  0.05068012,  0.04445121, ..., -0.00259226,\n",
              "          0.00286131, -0.02593034],\n",
              "        ...,\n",
              "        [ 0.04170844,  0.05068012, -0.01590626, ..., -0.01107952,\n",
              "         -0.04688253,  0.01549073],\n",
              "        [-0.04547248, -0.04464164,  0.03906215, ...,  0.02655962,\n",
              "          0.04452873, -0.02593034],\n",
              "        [-0.04547248, -0.04464164, -0.0730303 , ..., -0.03949338,\n",
              "         -0.00422151,  0.00306441]]),\n",
              " 'target': array([151.,  75., 141., 206., 135.,  97., 138.,  63., 110., 310., 101.,\n",
              "         69., 179., 185., 118., 171., 166., 144.,  97., 168.,  68.,  49.,\n",
              "         68., 245., 184., 202., 137.,  85., 131., 283., 129.,  59., 341.,\n",
              "         87.,  65., 102., 265., 276., 252.,  90., 100.,  55.,  61.,  92.,\n",
              "        259.,  53., 190., 142.,  75., 142., 155., 225.,  59., 104., 182.,\n",
              "        128.,  52.,  37., 170., 170.,  61., 144.,  52., 128.,  71., 163.,\n",
              "        150.,  97., 160., 178.,  48., 270., 202., 111.,  85.,  42., 170.,\n",
              "        200., 252., 113., 143.,  51.,  52., 210.,  65., 141.,  55., 134.,\n",
              "         42., 111.,  98., 164.,  48.,  96.,  90., 162., 150., 279.,  92.,\n",
              "         83., 128., 102., 302., 198.,  95.,  53., 134., 144., 232.,  81.,\n",
              "        104.,  59., 246., 297., 258., 229., 275., 281., 179., 200., 200.,\n",
              "        173., 180.,  84., 121., 161.,  99., 109., 115., 268., 274., 158.,\n",
              "        107.,  83., 103., 272.,  85., 280., 336., 281., 118., 317., 235.,\n",
              "         60., 174., 259., 178., 128.,  96., 126., 288.,  88., 292.,  71.,\n",
              "        197., 186.,  25.,  84.,  96., 195.,  53., 217., 172., 131., 214.,\n",
              "         59.,  70., 220., 268., 152.,  47.,  74., 295., 101., 151., 127.,\n",
              "        237., 225.,  81., 151., 107.,  64., 138., 185., 265., 101., 137.,\n",
              "        143., 141.,  79., 292., 178.,  91., 116.,  86., 122.,  72., 129.,\n",
              "        142.,  90., 158.,  39., 196., 222., 277.,  99., 196., 202., 155.,\n",
              "         77., 191.,  70.,  73.,  49.,  65., 263., 248., 296., 214., 185.,\n",
              "         78.,  93., 252., 150.,  77., 208.,  77., 108., 160.,  53., 220.,\n",
              "        154., 259.,  90., 246., 124.,  67.,  72., 257., 262., 275., 177.,\n",
              "         71.,  47., 187., 125.,  78.,  51., 258., 215., 303., 243.,  91.,\n",
              "        150., 310., 153., 346.,  63.,  89.,  50.,  39., 103., 308., 116.,\n",
              "        145.,  74.,  45., 115., 264.,  87., 202., 127., 182., 241.,  66.,\n",
              "         94., 283.,  64., 102., 200., 265.,  94., 230., 181., 156., 233.,\n",
              "         60., 219.,  80.,  68., 332., 248.,  84., 200.,  55.,  85.,  89.,\n",
              "         31., 129.,  83., 275.,  65., 198., 236., 253., 124.,  44., 172.,\n",
              "        114., 142., 109., 180., 144., 163., 147.,  97., 220., 190., 109.,\n",
              "        191., 122., 230., 242., 248., 249., 192., 131., 237.,  78., 135.,\n",
              "        244., 199., 270., 164.,  72.,  96., 306.,  91., 214.,  95., 216.,\n",
              "        263., 178., 113., 200., 139., 139.,  88., 148.,  88., 243.,  71.,\n",
              "         77., 109., 272.,  60.,  54., 221.,  90., 311., 281., 182., 321.,\n",
              "         58., 262., 206., 233., 242., 123., 167.,  63., 197.,  71., 168.,\n",
              "        140., 217., 121., 235., 245.,  40.,  52., 104., 132.,  88.,  69.,\n",
              "        219.,  72., 201., 110.,  51., 277.,  63., 118.,  69., 273., 258.,\n",
              "         43., 198., 242., 232., 175.,  93., 168., 275., 293., 281.,  72.,\n",
              "        140., 189., 181., 209., 136., 261., 113., 131., 174., 257.,  55.,\n",
              "         84.,  42., 146., 212., 233.,  91., 111., 152., 120.,  67., 310.,\n",
              "         94., 183.,  66., 173.,  72.,  49.,  64.,  48., 178., 104., 132.,\n",
              "        220.,  57.]),\n",
              " 'frame': None,\n",
              " 'DESCR': '.. _diabetes_dataset:\\n\\nDiabetes dataset\\n----------------\\n\\nTen baseline variables, age, sex, body mass index, average blood\\npressure, and six blood serum measurements were obtained for each of n =\\n442 diabetes patients, as well as the response of interest, a\\nquantitative measure of disease progression one year after baseline.\\n\\n**Data Set Characteristics:**\\n\\n  :Number of Instances: 442\\n\\n  :Number of Attributes: First 10 columns are numeric predictive values\\n\\n  :Target: Column 11 is a quantitative measure of disease progression one year after baseline\\n\\n  :Attribute Information:\\n      - age     age in years\\n      - sex\\n      - bmi     body mass index\\n      - bp      average blood pressure\\n      - s1      tc, total serum cholesterol\\n      - s2      ldl, low-density lipoproteins\\n      - s3      hdl, high-density lipoproteins\\n      - s4      tch, total cholesterol / HDL\\n      - s5      ltg, possibly log of serum triglycerides level\\n      - s6      glu, blood sugar level\\n\\nNote: Each of these 10 feature variables have been mean centered and scaled by the standard deviation times the square root of `n_samples` (i.e. the sum of squares of each column totals 1).\\n\\nSource URL:\\nhttps://www4.stat.ncsu.edu/~boos/var.select/diabetes.html\\n\\nFor more information see:\\nBradley Efron, Trevor Hastie, Iain Johnstone and Robert Tibshirani (2004) \"Least Angle Regression,\" Annals of Statistics (with discussion), 407-499.\\n(https://web.stanford.edu/~hastie/Papers/LARS/LeastAngle_2002.pdf)\\n',\n",
              " 'feature_names': ['age',\n",
              "  'sex',\n",
              "  'bmi',\n",
              "  'bp',\n",
              "  's1',\n",
              "  's2',\n",
              "  's3',\n",
              "  's4',\n",
              "  's5',\n",
              "  's6'],\n",
              " 'data_filename': 'diabetes_data_raw.csv.gz',\n",
              " 'target_filename': 'diabetes_target.csv.gz',\n",
              " 'data_module': 'sklearn.datasets.data'}"
            ]
          },
          "metadata": {},
          "execution_count": 11
        }
      ]
    },
    {
      "cell_type": "markdown",
      "id": "0b50af6f",
      "metadata": {
        "id": "0b50af6f"
      },
      "source": [
        "### Errors"
      ]
    },
    {
      "cell_type": "code",
      "execution_count": null,
      "id": "2078a7e2",
      "metadata": {
        "id": "2078a7e2",
        "colab": {
          "base_uri": "https://localhost:8080/"
        },
        "outputId": "e2819df7-f7c9-4ed6-d2b2-797ddfb4bd48"
      },
      "outputs": [
        {
          "output_type": "execute_result",
          "data": {
            "text/plain": [
              "dict_keys(['data', 'target', 'frame', 'DESCR', 'feature_names', 'data_filename', 'target_filename', 'data_module'])"
            ]
          },
          "metadata": {},
          "execution_count": 4
        }
      ],
      "source": [
        "# download dataset\n",
        "# print shape, info, and first five rows\n",
        "\n",
        "diabetes.keys()"
      ]
    },
    {
      "cell_type": "code",
      "source": [
        "#get description\n",
        "print(diabetes.DESCR)\n",
        "#get target and feature names\n",
        "print(diabetes.feature_names)\n",
        "print(diabetes.target_filename)"
      ],
      "metadata": {
        "colab": {
          "base_uri": "https://localhost:8080/"
        },
        "id": "XBo062JHyLVT",
        "outputId": "579e7c22-267e-4dbe-939a-767cf9dec3a4"
      },
      "id": "XBo062JHyLVT",
      "execution_count": null,
      "outputs": [
        {
          "output_type": "stream",
          "name": "stdout",
          "text": [
            ".. _diabetes_dataset:\n",
            "\n",
            "Diabetes dataset\n",
            "----------------\n",
            "\n",
            "Ten baseline variables, age, sex, body mass index, average blood\n",
            "pressure, and six blood serum measurements were obtained for each of n =\n",
            "442 diabetes patients, as well as the response of interest, a\n",
            "quantitative measure of disease progression one year after baseline.\n",
            "\n",
            "**Data Set Characteristics:**\n",
            "\n",
            "  :Number of Instances: 442\n",
            "\n",
            "  :Number of Attributes: First 10 columns are numeric predictive values\n",
            "\n",
            "  :Target: Column 11 is a quantitative measure of disease progression one year after baseline\n",
            "\n",
            "  :Attribute Information:\n",
            "      - age     age in years\n",
            "      - sex\n",
            "      - bmi     body mass index\n",
            "      - bp      average blood pressure\n",
            "      - s1      tc, total serum cholesterol\n",
            "      - s2      ldl, low-density lipoproteins\n",
            "      - s3      hdl, high-density lipoproteins\n",
            "      - s4      tch, total cholesterol / HDL\n",
            "      - s5      ltg, possibly log of serum triglycerides level\n",
            "      - s6      glu, blood sugar level\n",
            "\n",
            "Note: Each of these 10 feature variables have been mean centered and scaled by the standard deviation times the square root of `n_samples` (i.e. the sum of squares of each column totals 1).\n",
            "\n",
            "Source URL:\n",
            "https://www4.stat.ncsu.edu/~boos/var.select/diabetes.html\n",
            "\n",
            "For more information see:\n",
            "Bradley Efron, Trevor Hastie, Iain Johnstone and Robert Tibshirani (2004) \"Least Angle Regression,\" Annals of Statistics (with discussion), 407-499.\n",
            "(https://web.stanford.edu/~hastie/Papers/LARS/LeastAngle_2002.pdf)\n",
            "\n",
            "['age', 'sex', 'bmi', 'bp', 's1', 's2', 's3', 's4', 's5', 's6']\n",
            "diabetes_target.csv.gz\n"
          ]
        }
      ]
    },
    {
      "cell_type": "code",
      "source": [
        "#create DataFrame\n",
        "import pandas as pd\n",
        "df = pd.DataFrame(diabetes.data, columns = diabetes.feature_names)\n",
        "\n",
        "#show shape\n",
        "print(df.shape)\n",
        "\n",
        "#show info\n",
        "print(df.info())\n",
        "#show first 10 rows\n",
        "df.head(10)\n",
        "\n",
        "#show last 10 rows\n",
        "df.tail(10)"
      ],
      "metadata": {
        "colab": {
          "base_uri": "https://localhost:8080/",
          "height": 692
        },
        "id": "6-NSCS6d1bDd",
        "outputId": "ec9f1576-9d56-4b05-99a3-37c8ac3ece0d"
      },
      "id": "6-NSCS6d1bDd",
      "execution_count": 49,
      "outputs": [
        {
          "output_type": "stream",
          "name": "stdout",
          "text": [
            "(442, 10)\n",
            "<class 'pandas.core.frame.DataFrame'>\n",
            "RangeIndex: 442 entries, 0 to 441\n",
            "Data columns (total 10 columns):\n",
            " #   Column  Non-Null Count  Dtype  \n",
            "---  ------  --------------  -----  \n",
            " 0   age     442 non-null    float64\n",
            " 1   sex     442 non-null    float64\n",
            " 2   bmi     442 non-null    float64\n",
            " 3   bp      442 non-null    float64\n",
            " 4   s1      442 non-null    float64\n",
            " 5   s2      442 non-null    float64\n",
            " 6   s3      442 non-null    float64\n",
            " 7   s4      442 non-null    float64\n",
            " 8   s5      442 non-null    float64\n",
            " 9   s6      442 non-null    float64\n",
            "dtypes: float64(10)\n",
            "memory usage: 34.7 KB\n",
            "None\n"
          ]
        },
        {
          "output_type": "execute_result",
          "data": {
            "text/plain": [
              "          age       sex       bmi        bp        s1        s2        s3  \\\n",
              "432  0.009016 -0.044642  0.055229 -0.005670  0.057597  0.044719 -0.002903   \n",
              "433 -0.027310 -0.044642 -0.060097 -0.029770  0.046589  0.019980  0.122273   \n",
              "434  0.016281 -0.044642  0.001339  0.008101  0.005311  0.010899  0.030232   \n",
              "435 -0.012780 -0.044642 -0.023451 -0.040099 -0.016704  0.004636 -0.017629   \n",
              "436 -0.056370 -0.044642 -0.074108 -0.050427 -0.024960 -0.047034  0.092820   \n",
              "437  0.041708  0.050680  0.019662  0.059744 -0.005697 -0.002566 -0.028674   \n",
              "438 -0.005515  0.050680 -0.015906 -0.067642  0.049341  0.079165 -0.028674   \n",
              "439  0.041708  0.050680 -0.015906  0.017293 -0.037344 -0.013840 -0.024993   \n",
              "440 -0.045472 -0.044642  0.039062  0.001215  0.016318  0.015283 -0.028674   \n",
              "441 -0.045472 -0.044642 -0.073030 -0.081413  0.083740  0.027809  0.173816   \n",
              "\n",
              "           s4        s5        s6  \n",
              "432  0.023239  0.055686  0.106617  \n",
              "433 -0.039493 -0.051404 -0.009362  \n",
              "434 -0.039493 -0.045424  0.032059  \n",
              "435 -0.002592 -0.038460 -0.038357  \n",
              "436 -0.076395 -0.061176 -0.046641  \n",
              "437 -0.002592  0.031193  0.007207  \n",
              "438  0.034309 -0.018114  0.044485  \n",
              "439 -0.011080 -0.046883  0.015491  \n",
              "440  0.026560  0.044529 -0.025930  \n",
              "441 -0.039493 -0.004222  0.003064  "
            ],
            "text/html": [
              "\n",
              "  <div id=\"df-b029fe55-f4a5-4290-836c-c9f3044879b9\" class=\"colab-df-container\">\n",
              "    <div>\n",
              "<style scoped>\n",
              "    .dataframe tbody tr th:only-of-type {\n",
              "        vertical-align: middle;\n",
              "    }\n",
              "\n",
              "    .dataframe tbody tr th {\n",
              "        vertical-align: top;\n",
              "    }\n",
              "\n",
              "    .dataframe thead th {\n",
              "        text-align: right;\n",
              "    }\n",
              "</style>\n",
              "<table border=\"1\" class=\"dataframe\">\n",
              "  <thead>\n",
              "    <tr style=\"text-align: right;\">\n",
              "      <th></th>\n",
              "      <th>age</th>\n",
              "      <th>sex</th>\n",
              "      <th>bmi</th>\n",
              "      <th>bp</th>\n",
              "      <th>s1</th>\n",
              "      <th>s2</th>\n",
              "      <th>s3</th>\n",
              "      <th>s4</th>\n",
              "      <th>s5</th>\n",
              "      <th>s6</th>\n",
              "    </tr>\n",
              "  </thead>\n",
              "  <tbody>\n",
              "    <tr>\n",
              "      <th>432</th>\n",
              "      <td>0.009016</td>\n",
              "      <td>-0.044642</td>\n",
              "      <td>0.055229</td>\n",
              "      <td>-0.005670</td>\n",
              "      <td>0.057597</td>\n",
              "      <td>0.044719</td>\n",
              "      <td>-0.002903</td>\n",
              "      <td>0.023239</td>\n",
              "      <td>0.055686</td>\n",
              "      <td>0.106617</td>\n",
              "    </tr>\n",
              "    <tr>\n",
              "      <th>433</th>\n",
              "      <td>-0.027310</td>\n",
              "      <td>-0.044642</td>\n",
              "      <td>-0.060097</td>\n",
              "      <td>-0.029770</td>\n",
              "      <td>0.046589</td>\n",
              "      <td>0.019980</td>\n",
              "      <td>0.122273</td>\n",
              "      <td>-0.039493</td>\n",
              "      <td>-0.051404</td>\n",
              "      <td>-0.009362</td>\n",
              "    </tr>\n",
              "    <tr>\n",
              "      <th>434</th>\n",
              "      <td>0.016281</td>\n",
              "      <td>-0.044642</td>\n",
              "      <td>0.001339</td>\n",
              "      <td>0.008101</td>\n",
              "      <td>0.005311</td>\n",
              "      <td>0.010899</td>\n",
              "      <td>0.030232</td>\n",
              "      <td>-0.039493</td>\n",
              "      <td>-0.045424</td>\n",
              "      <td>0.032059</td>\n",
              "    </tr>\n",
              "    <tr>\n",
              "      <th>435</th>\n",
              "      <td>-0.012780</td>\n",
              "      <td>-0.044642</td>\n",
              "      <td>-0.023451</td>\n",
              "      <td>-0.040099</td>\n",
              "      <td>-0.016704</td>\n",
              "      <td>0.004636</td>\n",
              "      <td>-0.017629</td>\n",
              "      <td>-0.002592</td>\n",
              "      <td>-0.038460</td>\n",
              "      <td>-0.038357</td>\n",
              "    </tr>\n",
              "    <tr>\n",
              "      <th>436</th>\n",
              "      <td>-0.056370</td>\n",
              "      <td>-0.044642</td>\n",
              "      <td>-0.074108</td>\n",
              "      <td>-0.050427</td>\n",
              "      <td>-0.024960</td>\n",
              "      <td>-0.047034</td>\n",
              "      <td>0.092820</td>\n",
              "      <td>-0.076395</td>\n",
              "      <td>-0.061176</td>\n",
              "      <td>-0.046641</td>\n",
              "    </tr>\n",
              "    <tr>\n",
              "      <th>437</th>\n",
              "      <td>0.041708</td>\n",
              "      <td>0.050680</td>\n",
              "      <td>0.019662</td>\n",
              "      <td>0.059744</td>\n",
              "      <td>-0.005697</td>\n",
              "      <td>-0.002566</td>\n",
              "      <td>-0.028674</td>\n",
              "      <td>-0.002592</td>\n",
              "      <td>0.031193</td>\n",
              "      <td>0.007207</td>\n",
              "    </tr>\n",
              "    <tr>\n",
              "      <th>438</th>\n",
              "      <td>-0.005515</td>\n",
              "      <td>0.050680</td>\n",
              "      <td>-0.015906</td>\n",
              "      <td>-0.067642</td>\n",
              "      <td>0.049341</td>\n",
              "      <td>0.079165</td>\n",
              "      <td>-0.028674</td>\n",
              "      <td>0.034309</td>\n",
              "      <td>-0.018114</td>\n",
              "      <td>0.044485</td>\n",
              "    </tr>\n",
              "    <tr>\n",
              "      <th>439</th>\n",
              "      <td>0.041708</td>\n",
              "      <td>0.050680</td>\n",
              "      <td>-0.015906</td>\n",
              "      <td>0.017293</td>\n",
              "      <td>-0.037344</td>\n",
              "      <td>-0.013840</td>\n",
              "      <td>-0.024993</td>\n",
              "      <td>-0.011080</td>\n",
              "      <td>-0.046883</td>\n",
              "      <td>0.015491</td>\n",
              "    </tr>\n",
              "    <tr>\n",
              "      <th>440</th>\n",
              "      <td>-0.045472</td>\n",
              "      <td>-0.044642</td>\n",
              "      <td>0.039062</td>\n",
              "      <td>0.001215</td>\n",
              "      <td>0.016318</td>\n",
              "      <td>0.015283</td>\n",
              "      <td>-0.028674</td>\n",
              "      <td>0.026560</td>\n",
              "      <td>0.044529</td>\n",
              "      <td>-0.025930</td>\n",
              "    </tr>\n",
              "    <tr>\n",
              "      <th>441</th>\n",
              "      <td>-0.045472</td>\n",
              "      <td>-0.044642</td>\n",
              "      <td>-0.073030</td>\n",
              "      <td>-0.081413</td>\n",
              "      <td>0.083740</td>\n",
              "      <td>0.027809</td>\n",
              "      <td>0.173816</td>\n",
              "      <td>-0.039493</td>\n",
              "      <td>-0.004222</td>\n",
              "      <td>0.003064</td>\n",
              "    </tr>\n",
              "  </tbody>\n",
              "</table>\n",
              "</div>\n",
              "    <div class=\"colab-df-buttons\">\n",
              "\n",
              "  <div class=\"colab-df-container\">\n",
              "    <button class=\"colab-df-convert\" onclick=\"convertToInteractive('df-b029fe55-f4a5-4290-836c-c9f3044879b9')\"\n",
              "            title=\"Convert this dataframe to an interactive table.\"\n",
              "            style=\"display:none;\">\n",
              "\n",
              "  <svg xmlns=\"http://www.w3.org/2000/svg\" height=\"24px\" viewBox=\"0 -960 960 960\">\n",
              "    <path d=\"M120-120v-720h720v720H120Zm60-500h600v-160H180v160Zm220 220h160v-160H400v160Zm0 220h160v-160H400v160ZM180-400h160v-160H180v160Zm440 0h160v-160H620v160ZM180-180h160v-160H180v160Zm440 0h160v-160H620v160Z\"/>\n",
              "  </svg>\n",
              "    </button>\n",
              "\n",
              "  <style>\n",
              "    .colab-df-container {\n",
              "      display:flex;\n",
              "      gap: 12px;\n",
              "    }\n",
              "\n",
              "    .colab-df-convert {\n",
              "      background-color: #E8F0FE;\n",
              "      border: none;\n",
              "      border-radius: 50%;\n",
              "      cursor: pointer;\n",
              "      display: none;\n",
              "      fill: #1967D2;\n",
              "      height: 32px;\n",
              "      padding: 0 0 0 0;\n",
              "      width: 32px;\n",
              "    }\n",
              "\n",
              "    .colab-df-convert:hover {\n",
              "      background-color: #E2EBFA;\n",
              "      box-shadow: 0px 1px 2px rgba(60, 64, 67, 0.3), 0px 1px 3px 1px rgba(60, 64, 67, 0.15);\n",
              "      fill: #174EA6;\n",
              "    }\n",
              "\n",
              "    .colab-df-buttons div {\n",
              "      margin-bottom: 4px;\n",
              "    }\n",
              "\n",
              "    [theme=dark] .colab-df-convert {\n",
              "      background-color: #3B4455;\n",
              "      fill: #D2E3FC;\n",
              "    }\n",
              "\n",
              "    [theme=dark] .colab-df-convert:hover {\n",
              "      background-color: #434B5C;\n",
              "      box-shadow: 0px 1px 3px 1px rgba(0, 0, 0, 0.15);\n",
              "      filter: drop-shadow(0px 1px 2px rgba(0, 0, 0, 0.3));\n",
              "      fill: #FFFFFF;\n",
              "    }\n",
              "  </style>\n",
              "\n",
              "    <script>\n",
              "      const buttonEl =\n",
              "        document.querySelector('#df-b029fe55-f4a5-4290-836c-c9f3044879b9 button.colab-df-convert');\n",
              "      buttonEl.style.display =\n",
              "        google.colab.kernel.accessAllowed ? 'block' : 'none';\n",
              "\n",
              "      async function convertToInteractive(key) {\n",
              "        const element = document.querySelector('#df-b029fe55-f4a5-4290-836c-c9f3044879b9');\n",
              "        const dataTable =\n",
              "          await google.colab.kernel.invokeFunction('convertToInteractive',\n",
              "                                                    [key], {});\n",
              "        if (!dataTable) return;\n",
              "\n",
              "        const docLinkHtml = 'Like what you see? Visit the ' +\n",
              "          '<a target=\"_blank\" href=https://colab.research.google.com/notebooks/data_table.ipynb>data table notebook</a>'\n",
              "          + ' to learn more about interactive tables.';\n",
              "        element.innerHTML = '';\n",
              "        dataTable['output_type'] = 'display_data';\n",
              "        await google.colab.output.renderOutput(dataTable, element);\n",
              "        const docLink = document.createElement('div');\n",
              "        docLink.innerHTML = docLinkHtml;\n",
              "        element.appendChild(docLink);\n",
              "      }\n",
              "    </script>\n",
              "  </div>\n",
              "\n",
              "\n",
              "<div id=\"df-ab5d9e38-c04d-4a9c-9ce4-594ef090e531\">\n",
              "  <button class=\"colab-df-quickchart\" onclick=\"quickchart('df-ab5d9e38-c04d-4a9c-9ce4-594ef090e531')\"\n",
              "            title=\"Suggest charts\"\n",
              "            style=\"display:none;\">\n",
              "\n",
              "<svg xmlns=\"http://www.w3.org/2000/svg\" height=\"24px\"viewBox=\"0 0 24 24\"\n",
              "     width=\"24px\">\n",
              "    <g>\n",
              "        <path d=\"M19 3H5c-1.1 0-2 .9-2 2v14c0 1.1.9 2 2 2h14c1.1 0 2-.9 2-2V5c0-1.1-.9-2-2-2zM9 17H7v-7h2v7zm4 0h-2V7h2v10zm4 0h-2v-4h2v4z\"/>\n",
              "    </g>\n",
              "</svg>\n",
              "  </button>\n",
              "\n",
              "<style>\n",
              "  .colab-df-quickchart {\n",
              "      --bg-color: #E8F0FE;\n",
              "      --fill-color: #1967D2;\n",
              "      --hover-bg-color: #E2EBFA;\n",
              "      --hover-fill-color: #174EA6;\n",
              "      --disabled-fill-color: #AAA;\n",
              "      --disabled-bg-color: #DDD;\n",
              "  }\n",
              "\n",
              "  [theme=dark] .colab-df-quickchart {\n",
              "      --bg-color: #3B4455;\n",
              "      --fill-color: #D2E3FC;\n",
              "      --hover-bg-color: #434B5C;\n",
              "      --hover-fill-color: #FFFFFF;\n",
              "      --disabled-bg-color: #3B4455;\n",
              "      --disabled-fill-color: #666;\n",
              "  }\n",
              "\n",
              "  .colab-df-quickchart {\n",
              "    background-color: var(--bg-color);\n",
              "    border: none;\n",
              "    border-radius: 50%;\n",
              "    cursor: pointer;\n",
              "    display: none;\n",
              "    fill: var(--fill-color);\n",
              "    height: 32px;\n",
              "    padding: 0;\n",
              "    width: 32px;\n",
              "  }\n",
              "\n",
              "  .colab-df-quickchart:hover {\n",
              "    background-color: var(--hover-bg-color);\n",
              "    box-shadow: 0 1px 2px rgba(60, 64, 67, 0.3), 0 1px 3px 1px rgba(60, 64, 67, 0.15);\n",
              "    fill: var(--button-hover-fill-color);\n",
              "  }\n",
              "\n",
              "  .colab-df-quickchart-complete:disabled,\n",
              "  .colab-df-quickchart-complete:disabled:hover {\n",
              "    background-color: var(--disabled-bg-color);\n",
              "    fill: var(--disabled-fill-color);\n",
              "    box-shadow: none;\n",
              "  }\n",
              "\n",
              "  .colab-df-spinner {\n",
              "    border: 2px solid var(--fill-color);\n",
              "    border-color: transparent;\n",
              "    border-bottom-color: var(--fill-color);\n",
              "    animation:\n",
              "      spin 1s steps(1) infinite;\n",
              "  }\n",
              "\n",
              "  @keyframes spin {\n",
              "    0% {\n",
              "      border-color: transparent;\n",
              "      border-bottom-color: var(--fill-color);\n",
              "      border-left-color: var(--fill-color);\n",
              "    }\n",
              "    20% {\n",
              "      border-color: transparent;\n",
              "      border-left-color: var(--fill-color);\n",
              "      border-top-color: var(--fill-color);\n",
              "    }\n",
              "    30% {\n",
              "      border-color: transparent;\n",
              "      border-left-color: var(--fill-color);\n",
              "      border-top-color: var(--fill-color);\n",
              "      border-right-color: var(--fill-color);\n",
              "    }\n",
              "    40% {\n",
              "      border-color: transparent;\n",
              "      border-right-color: var(--fill-color);\n",
              "      border-top-color: var(--fill-color);\n",
              "    }\n",
              "    60% {\n",
              "      border-color: transparent;\n",
              "      border-right-color: var(--fill-color);\n",
              "    }\n",
              "    80% {\n",
              "      border-color: transparent;\n",
              "      border-right-color: var(--fill-color);\n",
              "      border-bottom-color: var(--fill-color);\n",
              "    }\n",
              "    90% {\n",
              "      border-color: transparent;\n",
              "      border-bottom-color: var(--fill-color);\n",
              "    }\n",
              "  }\n",
              "</style>\n",
              "\n",
              "  <script>\n",
              "    async function quickchart(key) {\n",
              "      const quickchartButtonEl =\n",
              "        document.querySelector('#' + key + ' button');\n",
              "      quickchartButtonEl.disabled = true;  // To prevent multiple clicks.\n",
              "      quickchartButtonEl.classList.add('colab-df-spinner');\n",
              "      try {\n",
              "        const charts = await google.colab.kernel.invokeFunction(\n",
              "            'suggestCharts', [key], {});\n",
              "      } catch (error) {\n",
              "        console.error('Error during call to suggestCharts:', error);\n",
              "      }\n",
              "      quickchartButtonEl.classList.remove('colab-df-spinner');\n",
              "      quickchartButtonEl.classList.add('colab-df-quickchart-complete');\n",
              "    }\n",
              "    (() => {\n",
              "      let quickchartButtonEl =\n",
              "        document.querySelector('#df-ab5d9e38-c04d-4a9c-9ce4-594ef090e531 button');\n",
              "      quickchartButtonEl.style.display =\n",
              "        google.colab.kernel.accessAllowed ? 'block' : 'none';\n",
              "    })();\n",
              "  </script>\n",
              "</div>\n",
              "\n",
              "    </div>\n",
              "  </div>\n"
            ]
          },
          "metadata": {},
          "execution_count": 49
        }
      ]
    },
    {
      "cell_type": "markdown",
      "id": "424776a2",
      "metadata": {
        "id": "424776a2"
      },
      "source": [
        "### Missing Values\n",
        "\n",
        "Missing data cause problems because most statistical procedures require a value for each variable. When a data set is incomplete, the data analyst has to decide how to deal with it.\n",
        "\n",
        "https://www.theanalysisfactor.com/causes-of-missing-data/<br />\n",
        "https://www.theanalysisfactor.com/when-listwise-deletion-works/\n",
        "\n",
        "* MCAR: Missing Completely at Random\n",
        "    * Probability of missing is same for all cases\n",
        "    * I tripped and broke the test tubes I was carrying\n",
        "    * Missing because not sampled\n",
        "* MNAR: Missing Not at Random\n",
        "    * Probability of missing is not the same for all cases\n",
        "    * Data are missing on IQ and only the people with low IQ values have missing observations for this variable\n",
        "    * Missing from public opinion because respondent maybe inhibited or have bias\n",
        "* MAR: Mising at Random\n",
        "    * Probability of missing is the same only within groups\n",
        "    * Probability of sample depends on some known property\n",
        "    * Only younger people have missing values for IQ\n",
        "\n",
        "https://stefvanbuuren.name/fimd/sec-MCAR.html<br />\n",
        "https://www.iriseekhout.com/post/2022-06-28-missingdatamechanisms/"
      ]
    },
    {
      "cell_type": "markdown",
      "id": "80e59473",
      "metadata": {
        "id": "80e59473"
      },
      "source": [
        "### Complete-Case Analysis (CCA)\n",
        "\n",
        "* Aka Listwise deletion\n",
        "* Reduces sample size\n",
        "* Can reduce the statistical efficiency of estimates"
      ]
    },
    {
      "cell_type": "code",
      "execution_count": 48,
      "id": "69119af1",
      "metadata": {
        "id": "69119af1",
        "colab": {
          "base_uri": "https://localhost:8080/"
        },
        "outputId": "cd1e06f7-d4bd-414c-b61c-4c1ada9f4393"
      },
      "outputs": [
        {
          "output_type": "stream",
          "name": "stdout",
          "text": [
            "(346, 1)\n",
            "(346, 1)\n"
          ]
        }
      ],
      "source": [
        "# delete rows with missing values example of cca\n",
        "print(df.shape)\n",
        "print(df.dropna().shape)"
      ]
    },
    {
      "cell_type": "markdown",
      "id": "28b3cf11",
      "metadata": {
        "id": "28b3cf11"
      },
      "source": [
        "### Cardinality of Features\n",
        "* Uneven distribution of labels between train and test sets (some may appear in one set and not in other)\n",
        "* Features with many labels dominate over those with fewer labels\n",
        "* Many labels introduces noise with little or no information\n",
        "* Reducing may help model performance\n",
        "* Removing features with low cardinality my help model performance"
      ]
    },
    {
      "cell_type": "code",
      "execution_count": null,
      "id": "fe3e472c",
      "metadata": {
        "id": "fe3e472c",
        "colab": {
          "base_uri": "https://localhost:8080/"
        },
        "outputId": "0dfc116e-346c-42af-ab4c-eae1da1ebc32"
      },
      "outputs": [
        {
          "output_type": "stream",
          "name": "stdout",
          "text": [
            "(442, 10)\n"
          ]
        },
        {
          "output_type": "execute_result",
          "data": {
            "text/plain": [
              "[]"
            ]
          },
          "metadata": {},
          "execution_count": 16
        }
      ],
      "source": [
        "# features with only one value (constant)\n",
        "constant_features = [\n",
        "    feat for feat in df.columns if len(df[feat].unique()) == 1\n",
        "]\n",
        "\n",
        "print(df.shape)\n",
        "constant_features"
      ]
    },
    {
      "cell_type": "code",
      "source": [
        "# drop constant_features\n",
        "df.drop(constant_features, axis=1, inplace=True)\n",
        "print(df.shape)"
      ],
      "metadata": {
        "id": "wAGTtjJGRxWT",
        "colab": {
          "base_uri": "https://localhost:8080/"
        },
        "outputId": "c9c935e7-0c06-47d4-8ea5-543ac9311c3d"
      },
      "id": "wAGTtjJGRxWT",
      "execution_count": null,
      "outputs": [
        {
          "output_type": "stream",
          "name": "stdout",
          "text": [
            "(442, 10)\n"
          ]
        }
      ]
    },
    {
      "cell_type": "code",
      "execution_count": null,
      "id": "e349fbd6",
      "metadata": {
        "id": "e349fbd6",
        "colab": {
          "base_uri": "https://localhost:8080/"
        },
        "outputId": "08188105-8ba6-4485-cb2c-d80875e89a95"
      },
      "outputs": [
        {
          "output_type": "stream",
          "name": "stdout",
          "text": [
            "-0.044642    0.531674\n",
            " 0.050680    0.468326\n",
            "Name: sex, dtype: float64\n",
            "quasi_consts []\n"
          ]
        }
      ],
      "source": [
        "# identify quasi constant values (sometimes these may be boolean/binary features)\n",
        "quasi_consts = []\n",
        "for val in df.columns.sort_values():\n",
        "    if (len(df[val].unique()) < 3):\n",
        "        val_counts = df[val].value_counts(normalize=True)\n",
        "        print(val_counts)\n",
        "        if list(val_counts)[0] > .98:\n",
        "            quasi_consts.append(val)\n",
        "\n",
        "print('quasi_consts', quasi_consts)"
      ]
    },
    {
      "cell_type": "code",
      "source": [
        "# drop quasi_consts\n",
        "df.drop(quasi_consts, axis=1, inplace=True)\n",
        "df.shape"
      ],
      "metadata": {
        "id": "tNmlDtA8YVOu",
        "colab": {
          "base_uri": "https://localhost:8080/"
        },
        "outputId": "b9142675-2c87-439f-da22-e6c6e351dec7"
      },
      "id": "tNmlDtA8YVOu",
      "execution_count": null,
      "outputs": [
        {
          "output_type": "execute_result",
          "data": {
            "text/plain": [
              "(442, 10)"
            ]
          },
          "metadata": {},
          "execution_count": 22
        }
      ]
    },
    {
      "cell_type": "markdown",
      "id": "f47e67d5",
      "metadata": {
        "id": "f47e67d5"
      },
      "source": [
        "### Duplications"
      ]
    },
    {
      "cell_type": "code",
      "source": [
        "# duplicate rows\n",
        "df[df.duplicated(keep=False)]\n",
        "df.head(10)\n"
      ],
      "metadata": {
        "id": "PQMmwlv9Lklw",
        "colab": {
          "base_uri": "https://localhost:8080/",
          "height": 363
        },
        "outputId": "5d462362-e836-4507-928b-56d0d50dc84f"
      },
      "id": "PQMmwlv9Lklw",
      "execution_count": null,
      "outputs": [
        {
          "output_type": "execute_result",
          "data": {
            "text/plain": [
              "        age       sex       bmi        bp        s1        s2        s3  \\\n",
              "0  0.038076  0.050680  0.061696  0.021872 -0.044223 -0.034821 -0.043401   \n",
              "1 -0.001882 -0.044642 -0.051474 -0.026328 -0.008449 -0.019163  0.074412   \n",
              "2  0.085299  0.050680  0.044451 -0.005670 -0.045599 -0.034194 -0.032356   \n",
              "3 -0.089063 -0.044642 -0.011595 -0.036656  0.012191  0.024991 -0.036038   \n",
              "4  0.005383 -0.044642 -0.036385  0.021872  0.003935  0.015596  0.008142   \n",
              "5 -0.092695 -0.044642 -0.040696 -0.019442 -0.068991 -0.079288  0.041277   \n",
              "6 -0.045472  0.050680 -0.047163 -0.015999 -0.040096 -0.024800  0.000779   \n",
              "7  0.063504  0.050680 -0.001895  0.066629  0.090620  0.108914  0.022869   \n",
              "8  0.041708  0.050680  0.061696 -0.040099 -0.013953  0.006202 -0.028674   \n",
              "9 -0.070900 -0.044642  0.039062 -0.033213 -0.012577 -0.034508 -0.024993   \n",
              "\n",
              "         s4        s5        s6  \n",
              "0 -0.002592  0.019907 -0.017646  \n",
              "1 -0.039493 -0.068332 -0.092204  \n",
              "2 -0.002592  0.002861 -0.025930  \n",
              "3  0.034309  0.022688 -0.009362  \n",
              "4 -0.002592 -0.031988 -0.046641  \n",
              "5 -0.076395 -0.041176 -0.096346  \n",
              "6 -0.039493 -0.062917 -0.038357  \n",
              "7  0.017703 -0.035816  0.003064  \n",
              "8 -0.002592 -0.014960  0.011349  \n",
              "9 -0.002592  0.067737 -0.013504  "
            ],
            "text/html": [
              "\n",
              "  <div id=\"df-6b106bc0-61e2-4cd1-b802-12c5c6aba281\" class=\"colab-df-container\">\n",
              "    <div>\n",
              "<style scoped>\n",
              "    .dataframe tbody tr th:only-of-type {\n",
              "        vertical-align: middle;\n",
              "    }\n",
              "\n",
              "    .dataframe tbody tr th {\n",
              "        vertical-align: top;\n",
              "    }\n",
              "\n",
              "    .dataframe thead th {\n",
              "        text-align: right;\n",
              "    }\n",
              "</style>\n",
              "<table border=\"1\" class=\"dataframe\">\n",
              "  <thead>\n",
              "    <tr style=\"text-align: right;\">\n",
              "      <th></th>\n",
              "      <th>age</th>\n",
              "      <th>sex</th>\n",
              "      <th>bmi</th>\n",
              "      <th>bp</th>\n",
              "      <th>s1</th>\n",
              "      <th>s2</th>\n",
              "      <th>s3</th>\n",
              "      <th>s4</th>\n",
              "      <th>s5</th>\n",
              "      <th>s6</th>\n",
              "    </tr>\n",
              "  </thead>\n",
              "  <tbody>\n",
              "    <tr>\n",
              "      <th>0</th>\n",
              "      <td>0.038076</td>\n",
              "      <td>0.050680</td>\n",
              "      <td>0.061696</td>\n",
              "      <td>0.021872</td>\n",
              "      <td>-0.044223</td>\n",
              "      <td>-0.034821</td>\n",
              "      <td>-0.043401</td>\n",
              "      <td>-0.002592</td>\n",
              "      <td>0.019907</td>\n",
              "      <td>-0.017646</td>\n",
              "    </tr>\n",
              "    <tr>\n",
              "      <th>1</th>\n",
              "      <td>-0.001882</td>\n",
              "      <td>-0.044642</td>\n",
              "      <td>-0.051474</td>\n",
              "      <td>-0.026328</td>\n",
              "      <td>-0.008449</td>\n",
              "      <td>-0.019163</td>\n",
              "      <td>0.074412</td>\n",
              "      <td>-0.039493</td>\n",
              "      <td>-0.068332</td>\n",
              "      <td>-0.092204</td>\n",
              "    </tr>\n",
              "    <tr>\n",
              "      <th>2</th>\n",
              "      <td>0.085299</td>\n",
              "      <td>0.050680</td>\n",
              "      <td>0.044451</td>\n",
              "      <td>-0.005670</td>\n",
              "      <td>-0.045599</td>\n",
              "      <td>-0.034194</td>\n",
              "      <td>-0.032356</td>\n",
              "      <td>-0.002592</td>\n",
              "      <td>0.002861</td>\n",
              "      <td>-0.025930</td>\n",
              "    </tr>\n",
              "    <tr>\n",
              "      <th>3</th>\n",
              "      <td>-0.089063</td>\n",
              "      <td>-0.044642</td>\n",
              "      <td>-0.011595</td>\n",
              "      <td>-0.036656</td>\n",
              "      <td>0.012191</td>\n",
              "      <td>0.024991</td>\n",
              "      <td>-0.036038</td>\n",
              "      <td>0.034309</td>\n",
              "      <td>0.022688</td>\n",
              "      <td>-0.009362</td>\n",
              "    </tr>\n",
              "    <tr>\n",
              "      <th>4</th>\n",
              "      <td>0.005383</td>\n",
              "      <td>-0.044642</td>\n",
              "      <td>-0.036385</td>\n",
              "      <td>0.021872</td>\n",
              "      <td>0.003935</td>\n",
              "      <td>0.015596</td>\n",
              "      <td>0.008142</td>\n",
              "      <td>-0.002592</td>\n",
              "      <td>-0.031988</td>\n",
              "      <td>-0.046641</td>\n",
              "    </tr>\n",
              "    <tr>\n",
              "      <th>5</th>\n",
              "      <td>-0.092695</td>\n",
              "      <td>-0.044642</td>\n",
              "      <td>-0.040696</td>\n",
              "      <td>-0.019442</td>\n",
              "      <td>-0.068991</td>\n",
              "      <td>-0.079288</td>\n",
              "      <td>0.041277</td>\n",
              "      <td>-0.076395</td>\n",
              "      <td>-0.041176</td>\n",
              "      <td>-0.096346</td>\n",
              "    </tr>\n",
              "    <tr>\n",
              "      <th>6</th>\n",
              "      <td>-0.045472</td>\n",
              "      <td>0.050680</td>\n",
              "      <td>-0.047163</td>\n",
              "      <td>-0.015999</td>\n",
              "      <td>-0.040096</td>\n",
              "      <td>-0.024800</td>\n",
              "      <td>0.000779</td>\n",
              "      <td>-0.039493</td>\n",
              "      <td>-0.062917</td>\n",
              "      <td>-0.038357</td>\n",
              "    </tr>\n",
              "    <tr>\n",
              "      <th>7</th>\n",
              "      <td>0.063504</td>\n",
              "      <td>0.050680</td>\n",
              "      <td>-0.001895</td>\n",
              "      <td>0.066629</td>\n",
              "      <td>0.090620</td>\n",
              "      <td>0.108914</td>\n",
              "      <td>0.022869</td>\n",
              "      <td>0.017703</td>\n",
              "      <td>-0.035816</td>\n",
              "      <td>0.003064</td>\n",
              "    </tr>\n",
              "    <tr>\n",
              "      <th>8</th>\n",
              "      <td>0.041708</td>\n",
              "      <td>0.050680</td>\n",
              "      <td>0.061696</td>\n",
              "      <td>-0.040099</td>\n",
              "      <td>-0.013953</td>\n",
              "      <td>0.006202</td>\n",
              "      <td>-0.028674</td>\n",
              "      <td>-0.002592</td>\n",
              "      <td>-0.014960</td>\n",
              "      <td>0.011349</td>\n",
              "    </tr>\n",
              "    <tr>\n",
              "      <th>9</th>\n",
              "      <td>-0.070900</td>\n",
              "      <td>-0.044642</td>\n",
              "      <td>0.039062</td>\n",
              "      <td>-0.033213</td>\n",
              "      <td>-0.012577</td>\n",
              "      <td>-0.034508</td>\n",
              "      <td>-0.024993</td>\n",
              "      <td>-0.002592</td>\n",
              "      <td>0.067737</td>\n",
              "      <td>-0.013504</td>\n",
              "    </tr>\n",
              "  </tbody>\n",
              "</table>\n",
              "</div>\n",
              "    <div class=\"colab-df-buttons\">\n",
              "\n",
              "  <div class=\"colab-df-container\">\n",
              "    <button class=\"colab-df-convert\" onclick=\"convertToInteractive('df-6b106bc0-61e2-4cd1-b802-12c5c6aba281')\"\n",
              "            title=\"Convert this dataframe to an interactive table.\"\n",
              "            style=\"display:none;\">\n",
              "\n",
              "  <svg xmlns=\"http://www.w3.org/2000/svg\" height=\"24px\" viewBox=\"0 -960 960 960\">\n",
              "    <path d=\"M120-120v-720h720v720H120Zm60-500h600v-160H180v160Zm220 220h160v-160H400v160Zm0 220h160v-160H400v160ZM180-400h160v-160H180v160Zm440 0h160v-160H620v160ZM180-180h160v-160H180v160Zm440 0h160v-160H620v160Z\"/>\n",
              "  </svg>\n",
              "    </button>\n",
              "\n",
              "  <style>\n",
              "    .colab-df-container {\n",
              "      display:flex;\n",
              "      gap: 12px;\n",
              "    }\n",
              "\n",
              "    .colab-df-convert {\n",
              "      background-color: #E8F0FE;\n",
              "      border: none;\n",
              "      border-radius: 50%;\n",
              "      cursor: pointer;\n",
              "      display: none;\n",
              "      fill: #1967D2;\n",
              "      height: 32px;\n",
              "      padding: 0 0 0 0;\n",
              "      width: 32px;\n",
              "    }\n",
              "\n",
              "    .colab-df-convert:hover {\n",
              "      background-color: #E2EBFA;\n",
              "      box-shadow: 0px 1px 2px rgba(60, 64, 67, 0.3), 0px 1px 3px 1px rgba(60, 64, 67, 0.15);\n",
              "      fill: #174EA6;\n",
              "    }\n",
              "\n",
              "    .colab-df-buttons div {\n",
              "      margin-bottom: 4px;\n",
              "    }\n",
              "\n",
              "    [theme=dark] .colab-df-convert {\n",
              "      background-color: #3B4455;\n",
              "      fill: #D2E3FC;\n",
              "    }\n",
              "\n",
              "    [theme=dark] .colab-df-convert:hover {\n",
              "      background-color: #434B5C;\n",
              "      box-shadow: 0px 1px 3px 1px rgba(0, 0, 0, 0.15);\n",
              "      filter: drop-shadow(0px 1px 2px rgba(0, 0, 0, 0.3));\n",
              "      fill: #FFFFFF;\n",
              "    }\n",
              "  </style>\n",
              "\n",
              "    <script>\n",
              "      const buttonEl =\n",
              "        document.querySelector('#df-6b106bc0-61e2-4cd1-b802-12c5c6aba281 button.colab-df-convert');\n",
              "      buttonEl.style.display =\n",
              "        google.colab.kernel.accessAllowed ? 'block' : 'none';\n",
              "\n",
              "      async function convertToInteractive(key) {\n",
              "        const element = document.querySelector('#df-6b106bc0-61e2-4cd1-b802-12c5c6aba281');\n",
              "        const dataTable =\n",
              "          await google.colab.kernel.invokeFunction('convertToInteractive',\n",
              "                                                    [key], {});\n",
              "        if (!dataTable) return;\n",
              "\n",
              "        const docLinkHtml = 'Like what you see? Visit the ' +\n",
              "          '<a target=\"_blank\" href=https://colab.research.google.com/notebooks/data_table.ipynb>data table notebook</a>'\n",
              "          + ' to learn more about interactive tables.';\n",
              "        element.innerHTML = '';\n",
              "        dataTable['output_type'] = 'display_data';\n",
              "        await google.colab.output.renderOutput(dataTable, element);\n",
              "        const docLink = document.createElement('div');\n",
              "        docLink.innerHTML = docLinkHtml;\n",
              "        element.appendChild(docLink);\n",
              "      }\n",
              "    </script>\n",
              "  </div>\n",
              "\n",
              "\n",
              "<div id=\"df-17db94c6-8a8a-4616-ab6f-0310f7b58ca4\">\n",
              "  <button class=\"colab-df-quickchart\" onclick=\"quickchart('df-17db94c6-8a8a-4616-ab6f-0310f7b58ca4')\"\n",
              "            title=\"Suggest charts\"\n",
              "            style=\"display:none;\">\n",
              "\n",
              "<svg xmlns=\"http://www.w3.org/2000/svg\" height=\"24px\"viewBox=\"0 0 24 24\"\n",
              "     width=\"24px\">\n",
              "    <g>\n",
              "        <path d=\"M19 3H5c-1.1 0-2 .9-2 2v14c0 1.1.9 2 2 2h14c1.1 0 2-.9 2-2V5c0-1.1-.9-2-2-2zM9 17H7v-7h2v7zm4 0h-2V7h2v10zm4 0h-2v-4h2v4z\"/>\n",
              "    </g>\n",
              "</svg>\n",
              "  </button>\n",
              "\n",
              "<style>\n",
              "  .colab-df-quickchart {\n",
              "      --bg-color: #E8F0FE;\n",
              "      --fill-color: #1967D2;\n",
              "      --hover-bg-color: #E2EBFA;\n",
              "      --hover-fill-color: #174EA6;\n",
              "      --disabled-fill-color: #AAA;\n",
              "      --disabled-bg-color: #DDD;\n",
              "  }\n",
              "\n",
              "  [theme=dark] .colab-df-quickchart {\n",
              "      --bg-color: #3B4455;\n",
              "      --fill-color: #D2E3FC;\n",
              "      --hover-bg-color: #434B5C;\n",
              "      --hover-fill-color: #FFFFFF;\n",
              "      --disabled-bg-color: #3B4455;\n",
              "      --disabled-fill-color: #666;\n",
              "  }\n",
              "\n",
              "  .colab-df-quickchart {\n",
              "    background-color: var(--bg-color);\n",
              "    border: none;\n",
              "    border-radius: 50%;\n",
              "    cursor: pointer;\n",
              "    display: none;\n",
              "    fill: var(--fill-color);\n",
              "    height: 32px;\n",
              "    padding: 0;\n",
              "    width: 32px;\n",
              "  }\n",
              "\n",
              "  .colab-df-quickchart:hover {\n",
              "    background-color: var(--hover-bg-color);\n",
              "    box-shadow: 0 1px 2px rgba(60, 64, 67, 0.3), 0 1px 3px 1px rgba(60, 64, 67, 0.15);\n",
              "    fill: var(--button-hover-fill-color);\n",
              "  }\n",
              "\n",
              "  .colab-df-quickchart-complete:disabled,\n",
              "  .colab-df-quickchart-complete:disabled:hover {\n",
              "    background-color: var(--disabled-bg-color);\n",
              "    fill: var(--disabled-fill-color);\n",
              "    box-shadow: none;\n",
              "  }\n",
              "\n",
              "  .colab-df-spinner {\n",
              "    border: 2px solid var(--fill-color);\n",
              "    border-color: transparent;\n",
              "    border-bottom-color: var(--fill-color);\n",
              "    animation:\n",
              "      spin 1s steps(1) infinite;\n",
              "  }\n",
              "\n",
              "  @keyframes spin {\n",
              "    0% {\n",
              "      border-color: transparent;\n",
              "      border-bottom-color: var(--fill-color);\n",
              "      border-left-color: var(--fill-color);\n",
              "    }\n",
              "    20% {\n",
              "      border-color: transparent;\n",
              "      border-left-color: var(--fill-color);\n",
              "      border-top-color: var(--fill-color);\n",
              "    }\n",
              "    30% {\n",
              "      border-color: transparent;\n",
              "      border-left-color: var(--fill-color);\n",
              "      border-top-color: var(--fill-color);\n",
              "      border-right-color: var(--fill-color);\n",
              "    }\n",
              "    40% {\n",
              "      border-color: transparent;\n",
              "      border-right-color: var(--fill-color);\n",
              "      border-top-color: var(--fill-color);\n",
              "    }\n",
              "    60% {\n",
              "      border-color: transparent;\n",
              "      border-right-color: var(--fill-color);\n",
              "    }\n",
              "    80% {\n",
              "      border-color: transparent;\n",
              "      border-right-color: var(--fill-color);\n",
              "      border-bottom-color: var(--fill-color);\n",
              "    }\n",
              "    90% {\n",
              "      border-color: transparent;\n",
              "      border-bottom-color: var(--fill-color);\n",
              "    }\n",
              "  }\n",
              "</style>\n",
              "\n",
              "  <script>\n",
              "    async function quickchart(key) {\n",
              "      const quickchartButtonEl =\n",
              "        document.querySelector('#' + key + ' button');\n",
              "      quickchartButtonEl.disabled = true;  // To prevent multiple clicks.\n",
              "      quickchartButtonEl.classList.add('colab-df-spinner');\n",
              "      try {\n",
              "        const charts = await google.colab.kernel.invokeFunction(\n",
              "            'suggestCharts', [key], {});\n",
              "      } catch (error) {\n",
              "        console.error('Error during call to suggestCharts:', error);\n",
              "      }\n",
              "      quickchartButtonEl.classList.remove('colab-df-spinner');\n",
              "      quickchartButtonEl.classList.add('colab-df-quickchart-complete');\n",
              "    }\n",
              "    (() => {\n",
              "      let quickchartButtonEl =\n",
              "        document.querySelector('#df-17db94c6-8a8a-4616-ab6f-0310f7b58ca4 button');\n",
              "      quickchartButtonEl.style.display =\n",
              "        google.colab.kernel.accessAllowed ? 'block' : 'none';\n",
              "    })();\n",
              "  </script>\n",
              "</div>\n",
              "\n",
              "    </div>\n",
              "  </div>\n"
            ]
          },
          "metadata": {},
          "execution_count": 27
        }
      ]
    },
    {
      "cell_type": "code",
      "source": [
        "# drop duplicate rows\n",
        "print(df.shape)\n",
        "df.drop_duplicates(inplace=True)\n",
        "df.shape"
      ],
      "metadata": {
        "id": "0GIAZy6ALgC9",
        "colab": {
          "base_uri": "https://localhost:8080/"
        },
        "outputId": "7b5cd050-d9cf-4aaa-ac14-065856a5a4e5"
      },
      "id": "0GIAZy6ALgC9",
      "execution_count": null,
      "outputs": [
        {
          "output_type": "stream",
          "name": "stdout",
          "text": [
            "(442, 10)\n"
          ]
        },
        {
          "output_type": "execute_result",
          "data": {
            "text/plain": [
              "(442, 10)"
            ]
          },
          "metadata": {},
          "execution_count": 31
        }
      ]
    },
    {
      "cell_type": "code",
      "execution_count": null,
      "id": "a511cc25",
      "metadata": {
        "id": "a511cc25",
        "colab": {
          "base_uri": "https://localhost:8080/"
        },
        "outputId": "175d29a4-e4d5-4021-a814-68a940f62cf0"
      },
      "outputs": [
        {
          "output_type": "execute_result",
          "data": {
            "text/plain": [
              "[]"
            ]
          },
          "metadata": {},
          "execution_count": 32
        }
      ],
      "source": [
        "# check of duplications\n",
        "duplicated_feats = []\n",
        "for i in range(0, len(df.columns)):\n",
        "    orig = df.columns[i]\n",
        "\n",
        "    for dupe in df.columns[i + 1:]:\n",
        "        if df[orig].equals(df[dupe]):\n",
        "            duplicated_feats.append(dupe)\n",
        "\n",
        "duplicated_feats"
      ]
    },
    {
      "cell_type": "code",
      "source": [
        "# drop duplicated_feats\n",
        "print(df.shape)\n",
        "df.drop(duplicated_feats, axis=1, inplace=True)\n",
        "df.shape"
      ],
      "metadata": {
        "id": "BTG-Owb7XtbN",
        "colab": {
          "base_uri": "https://localhost:8080/"
        },
        "outputId": "2e382482-4666-4bfd-e5da-0063c49a1bb6"
      },
      "id": "BTG-Owb7XtbN",
      "execution_count": null,
      "outputs": [
        {
          "output_type": "stream",
          "name": "stdout",
          "text": [
            "(442, 10)\n"
          ]
        },
        {
          "output_type": "execute_result",
          "data": {
            "text/plain": [
              "(442, 10)"
            ]
          },
          "metadata": {},
          "execution_count": 33
        }
      ]
    },
    {
      "cell_type": "markdown",
      "id": "89aaa3dd",
      "metadata": {
        "id": "89aaa3dd"
      },
      "source": [
        "### Any vs All"
      ]
    },
    {
      "cell_type": "code",
      "execution_count": null,
      "id": "08a61d39",
      "metadata": {
        "id": "08a61d39",
        "colab": {
          "base_uri": "https://localhost:8080/"
        },
        "outputId": "390f387e-6b52-4813-ea58-3324616fa738"
      },
      "outputs": [
        {
          "output_type": "execute_result",
          "data": {
            "text/plain": [
              "age    0\n",
              "sex    0\n",
              "bmi    0\n",
              "bp     0\n",
              "s1     0\n",
              "s2     0\n",
              "s3     0\n",
              "s4     0\n",
              "s5     0\n",
              "s6     0\n",
              "dtype: int64"
            ]
          },
          "metadata": {},
          "execution_count": 34
        }
      ],
      "source": [
        "# count nulls\n",
        "df.isnull().sum()"
      ]
    },
    {
      "cell_type": "code",
      "execution_count": null,
      "id": "d153c4e1",
      "metadata": {
        "id": "d153c4e1",
        "colab": {
          "base_uri": "https://localhost:8080/"
        },
        "outputId": "0c69a84b-1d88-466b-8800-3bcbcccb4b92"
      },
      "outputs": [
        {
          "output_type": "stream",
          "name": "stdout",
          "text": [
            "(442, 10)\n",
            "(442, 10)\n"
          ]
        }
      ],
      "source": [
        "# drop columns with null values https://pandas.pydata.org/docs/reference/api/pandas.DataFrame.dropna.html\n",
        "print(df.shape)\n",
        "df.dropna(how='all', axis='columns', inplace=True) # 1\n",
        "print(df.shape)"
      ]
    },
    {
      "cell_type": "code",
      "execution_count": null,
      "id": "ffce2927",
      "metadata": {
        "id": "ffce2927",
        "colab": {
          "base_uri": "https://localhost:8080/"
        },
        "outputId": "1daea12e-6a6a-4678-bb58-24af1cb341b8"
      },
      "outputs": [
        {
          "output_type": "stream",
          "name": "stdout",
          "text": [
            "(442, 10)\n",
            "(442, 10)\n"
          ]
        }
      ],
      "source": [
        "# drop rows with null values\n",
        "print(df.shape)\n",
        "print(df.dropna(how='any', axis='index').shape) # information is lost when we drop"
      ]
    },
    {
      "cell_type": "markdown",
      "id": "7f8961e4",
      "metadata": {
        "id": "7f8961e4"
      },
      "source": [
        "## Exploratory Data Analysis"
      ]
    },
    {
      "cell_type": "markdown",
      "source": [
        "### Descriptive Statistics\n",
        "\n",
        "* Descriptive statistics: the numbers and calculations we use to summarize raw data\n",
        "* The mean is prone to distortion by outliers so we have the median\n",
        "* Elon Musk and Tiny Homes, 35000 till Elon joins and then average income jumps to $91 million\n",
        "* Absolute statistic vs relative statistic\n",
        "* Standard deviation: how dispersed the data from the mean, how spread out\n",
        "* Descriptive statistics are often used to compare two quantities"
      ],
      "metadata": {
        "id": "2XRPz7hFQxFZ"
      },
      "id": "2XRPz7hFQxFZ"
    },
    {
      "cell_type": "markdown",
      "source": [
        "### Anscombes Quartet\n",
        "Anscombe's quartet comprises four data sets that have nearly identical simple descriptive statistics, yet have very different distributions and appear very different when graphed.\n",
        "https://en.wikipedia.org/wiki/Anscombe%27s_quartet"
      ],
      "metadata": {
        "id": "5Coy4KF5p9ou"
      },
      "id": "5Coy4KF5p9ou"
    },
    {
      "cell_type": "markdown",
      "source": [
        "### Deceptive Statitics\n",
        "\n",
        "* The use of statistics to describe complex phenomena is not exact\n",
        "* Again precision and accuracy\n",
        "* Precision can mask inaccuracy\n",
        "* In 1950, Joseph McCarthy waved a piece of paper in a speech and declared he had a list of 205 names known to the Secretary of State that were working in the State Department. The paper was blank and this was an outright lie, but the specificity gave the lie credibility\n",
        "* Measurements, or calculations, no matter how precise, need to be checked with common sense\n",
        "* Descriptive statistics may suffer from clarity over exactly what is being described\n",
        "* Be sure to present a range of statistics with a range of perspectives\n",
        "* Our schools are getting worse! 60% of our schools had lower test scores this year from last\n",
        "* Our schools are getting better! 80% of our students had higher test scores from last year\n",
        "* Not all schools/students are equal and it depends on the unit of analysis\n",
        "* One measured schools and the other measured students"
      ],
      "metadata": {
        "id": "5YNVj4ndqM8m"
      },
      "id": "5YNVj4ndqM8m"
    },
    {
      "cell_type": "markdown",
      "source": [
        "## Explanatory Analysis vs Exploratory Analysis\n",
        "\n",
        "Exploratory analysis is the process of turning over 100 rocks to find perhaps 1 or 2 precious gemstones. Explanatory analysis is what happens when you have something specific you want to show an audience - probably about those 1 or 2 precious gemstones.\n",
        "\n",
        "https://www.storytellingwithdata.com/blog/2014/04/exploratory-vs-explanatory-analysis"
      ],
      "metadata": {
        "id": "Lflfw2QZZF_T"
      },
      "id": "Lflfw2QZZF_T"
    },
    {
      "cell_type": "markdown",
      "id": "11d57cbb",
      "metadata": {
        "id": "11d57cbb"
      },
      "source": [
        "### Train Test Split"
      ]
    },
    {
      "cell_type": "code",
      "execution_count": 58,
      "id": "5abb17ad",
      "metadata": {
        "id": "5abb17ad",
        "colab": {
          "base_uri": "https://localhost:8080/"
        },
        "outputId": "4691ecaa-55fd-41c3-d60b-99abb5244701"
      },
      "outputs": [
        {
          "output_type": "stream",
          "name": "stdout",
          "text": [
            "(353, 9)\n",
            "(89, 9)\n"
          ]
        }
      ],
      "source": [
        "# train test split\n",
        "from sklearn.model_selection import train_test_split\n",
        "\n",
        "X_train, X_test, y_train, y_test = train_test_split(df.drop('bp', axis=1), df['bp'], test_size=.2, random_state=42)\n",
        "print(X_train.shape)\n",
        "print(X_test.shape)"
      ]
    },
    {
      "cell_type": "code",
      "execution_count": 51,
      "id": "c1f3e831",
      "metadata": {
        "id": "c1f3e831",
        "colab": {
          "base_uri": "https://localhost:8080/"
        },
        "outputId": "6771a04b-da37-4601-b125-067e4f502429"
      },
      "outputs": [
        {
          "output_type": "stream",
          "name": "stdout",
          "text": [
            "<class 'pandas.core.frame.DataFrame'>\n",
            "Int64Index: 353 entries, 17 to 102\n",
            "Data columns (total 9 columns):\n",
            " #   Column  Non-Null Count  Dtype  \n",
            "---  ------  --------------  -----  \n",
            " 0   age     353 non-null    float64\n",
            " 1   sex     353 non-null    float64\n",
            " 2   bmi     353 non-null    float64\n",
            " 3   s1      353 non-null    float64\n",
            " 4   s2      353 non-null    float64\n",
            " 5   s3      353 non-null    float64\n",
            " 6   s4      353 non-null    float64\n",
            " 7   s5      353 non-null    float64\n",
            " 8   s6      353 non-null    float64\n",
            "dtypes: float64(9)\n",
            "memory usage: 27.6 KB\n"
          ]
        }
      ],
      "source": [
        "# info\n",
        "X_train.info()"
      ]
    },
    {
      "cell_type": "code",
      "execution_count": 52,
      "id": "709bae64",
      "metadata": {
        "id": "709bae64",
        "colab": {
          "base_uri": "https://localhost:8080/",
          "height": 300
        },
        "outputId": "96c3918c-0f5a-4b3b-8381-d1ae749b07e2"
      },
      "outputs": [
        {
          "output_type": "execute_result",
          "data": {
            "text/plain": [
              "              age         sex         bmi          s1          s2          s3  \\\n",
              "count  353.000000  353.000000  353.000000  353.000000  353.000000  353.000000   \n",
              "mean     0.001442    0.000184    0.001736   -0.000556   -0.000806   -0.000989   \n",
              "std      0.046334    0.047644    0.047275    0.047786    0.047631    0.047044   \n",
              "min     -0.107226   -0.044642   -0.089197   -0.108893   -0.115613   -0.102307   \n",
              "25%     -0.030942   -0.044642   -0.032073   -0.035968   -0.032629   -0.032356   \n",
              "50%      0.009016   -0.044642   -0.005128   -0.004321   -0.004132   -0.006584   \n",
              "75%      0.038076    0.050680    0.032595    0.025950    0.027183    0.026550   \n",
              "max      0.110727    0.050680    0.160855    0.153914    0.198788    0.181179   \n",
              "\n",
              "               s4          s5          s6  \n",
              "count  353.000000  353.000000  353.000000  \n",
              "mean     0.000377    0.001216    0.001891  \n",
              "std      0.047790    0.047828    0.048380  \n",
              "min     -0.076395   -0.126097   -0.137767  \n",
              "25%     -0.039493   -0.033246   -0.030072  \n",
              "50%     -0.002592   -0.000612    0.003064  \n",
              "75%      0.034309    0.033654    0.032059  \n",
              "max      0.185234    0.133597    0.135612  "
            ],
            "text/html": [
              "\n",
              "  <div id=\"df-49e03faa-5628-402e-bc9e-fd7448ff86a0\" class=\"colab-df-container\">\n",
              "    <div>\n",
              "<style scoped>\n",
              "    .dataframe tbody tr th:only-of-type {\n",
              "        vertical-align: middle;\n",
              "    }\n",
              "\n",
              "    .dataframe tbody tr th {\n",
              "        vertical-align: top;\n",
              "    }\n",
              "\n",
              "    .dataframe thead th {\n",
              "        text-align: right;\n",
              "    }\n",
              "</style>\n",
              "<table border=\"1\" class=\"dataframe\">\n",
              "  <thead>\n",
              "    <tr style=\"text-align: right;\">\n",
              "      <th></th>\n",
              "      <th>age</th>\n",
              "      <th>sex</th>\n",
              "      <th>bmi</th>\n",
              "      <th>s1</th>\n",
              "      <th>s2</th>\n",
              "      <th>s3</th>\n",
              "      <th>s4</th>\n",
              "      <th>s5</th>\n",
              "      <th>s6</th>\n",
              "    </tr>\n",
              "  </thead>\n",
              "  <tbody>\n",
              "    <tr>\n",
              "      <th>count</th>\n",
              "      <td>353.000000</td>\n",
              "      <td>353.000000</td>\n",
              "      <td>353.000000</td>\n",
              "      <td>353.000000</td>\n",
              "      <td>353.000000</td>\n",
              "      <td>353.000000</td>\n",
              "      <td>353.000000</td>\n",
              "      <td>353.000000</td>\n",
              "      <td>353.000000</td>\n",
              "    </tr>\n",
              "    <tr>\n",
              "      <th>mean</th>\n",
              "      <td>0.001442</td>\n",
              "      <td>0.000184</td>\n",
              "      <td>0.001736</td>\n",
              "      <td>-0.000556</td>\n",
              "      <td>-0.000806</td>\n",
              "      <td>-0.000989</td>\n",
              "      <td>0.000377</td>\n",
              "      <td>0.001216</td>\n",
              "      <td>0.001891</td>\n",
              "    </tr>\n",
              "    <tr>\n",
              "      <th>std</th>\n",
              "      <td>0.046334</td>\n",
              "      <td>0.047644</td>\n",
              "      <td>0.047275</td>\n",
              "      <td>0.047786</td>\n",
              "      <td>0.047631</td>\n",
              "      <td>0.047044</td>\n",
              "      <td>0.047790</td>\n",
              "      <td>0.047828</td>\n",
              "      <td>0.048380</td>\n",
              "    </tr>\n",
              "    <tr>\n",
              "      <th>min</th>\n",
              "      <td>-0.107226</td>\n",
              "      <td>-0.044642</td>\n",
              "      <td>-0.089197</td>\n",
              "      <td>-0.108893</td>\n",
              "      <td>-0.115613</td>\n",
              "      <td>-0.102307</td>\n",
              "      <td>-0.076395</td>\n",
              "      <td>-0.126097</td>\n",
              "      <td>-0.137767</td>\n",
              "    </tr>\n",
              "    <tr>\n",
              "      <th>25%</th>\n",
              "      <td>-0.030942</td>\n",
              "      <td>-0.044642</td>\n",
              "      <td>-0.032073</td>\n",
              "      <td>-0.035968</td>\n",
              "      <td>-0.032629</td>\n",
              "      <td>-0.032356</td>\n",
              "      <td>-0.039493</td>\n",
              "      <td>-0.033246</td>\n",
              "      <td>-0.030072</td>\n",
              "    </tr>\n",
              "    <tr>\n",
              "      <th>50%</th>\n",
              "      <td>0.009016</td>\n",
              "      <td>-0.044642</td>\n",
              "      <td>-0.005128</td>\n",
              "      <td>-0.004321</td>\n",
              "      <td>-0.004132</td>\n",
              "      <td>-0.006584</td>\n",
              "      <td>-0.002592</td>\n",
              "      <td>-0.000612</td>\n",
              "      <td>0.003064</td>\n",
              "    </tr>\n",
              "    <tr>\n",
              "      <th>75%</th>\n",
              "      <td>0.038076</td>\n",
              "      <td>0.050680</td>\n",
              "      <td>0.032595</td>\n",
              "      <td>0.025950</td>\n",
              "      <td>0.027183</td>\n",
              "      <td>0.026550</td>\n",
              "      <td>0.034309</td>\n",
              "      <td>0.033654</td>\n",
              "      <td>0.032059</td>\n",
              "    </tr>\n",
              "    <tr>\n",
              "      <th>max</th>\n",
              "      <td>0.110727</td>\n",
              "      <td>0.050680</td>\n",
              "      <td>0.160855</td>\n",
              "      <td>0.153914</td>\n",
              "      <td>0.198788</td>\n",
              "      <td>0.181179</td>\n",
              "      <td>0.185234</td>\n",
              "      <td>0.133597</td>\n",
              "      <td>0.135612</td>\n",
              "    </tr>\n",
              "  </tbody>\n",
              "</table>\n",
              "</div>\n",
              "    <div class=\"colab-df-buttons\">\n",
              "\n",
              "  <div class=\"colab-df-container\">\n",
              "    <button class=\"colab-df-convert\" onclick=\"convertToInteractive('df-49e03faa-5628-402e-bc9e-fd7448ff86a0')\"\n",
              "            title=\"Convert this dataframe to an interactive table.\"\n",
              "            style=\"display:none;\">\n",
              "\n",
              "  <svg xmlns=\"http://www.w3.org/2000/svg\" height=\"24px\" viewBox=\"0 -960 960 960\">\n",
              "    <path d=\"M120-120v-720h720v720H120Zm60-500h600v-160H180v160Zm220 220h160v-160H400v160Zm0 220h160v-160H400v160ZM180-400h160v-160H180v160Zm440 0h160v-160H620v160ZM180-180h160v-160H180v160Zm440 0h160v-160H620v160Z\"/>\n",
              "  </svg>\n",
              "    </button>\n",
              "\n",
              "  <style>\n",
              "    .colab-df-container {\n",
              "      display:flex;\n",
              "      gap: 12px;\n",
              "    }\n",
              "\n",
              "    .colab-df-convert {\n",
              "      background-color: #E8F0FE;\n",
              "      border: none;\n",
              "      border-radius: 50%;\n",
              "      cursor: pointer;\n",
              "      display: none;\n",
              "      fill: #1967D2;\n",
              "      height: 32px;\n",
              "      padding: 0 0 0 0;\n",
              "      width: 32px;\n",
              "    }\n",
              "\n",
              "    .colab-df-convert:hover {\n",
              "      background-color: #E2EBFA;\n",
              "      box-shadow: 0px 1px 2px rgba(60, 64, 67, 0.3), 0px 1px 3px 1px rgba(60, 64, 67, 0.15);\n",
              "      fill: #174EA6;\n",
              "    }\n",
              "\n",
              "    .colab-df-buttons div {\n",
              "      margin-bottom: 4px;\n",
              "    }\n",
              "\n",
              "    [theme=dark] .colab-df-convert {\n",
              "      background-color: #3B4455;\n",
              "      fill: #D2E3FC;\n",
              "    }\n",
              "\n",
              "    [theme=dark] .colab-df-convert:hover {\n",
              "      background-color: #434B5C;\n",
              "      box-shadow: 0px 1px 3px 1px rgba(0, 0, 0, 0.15);\n",
              "      filter: drop-shadow(0px 1px 2px rgba(0, 0, 0, 0.3));\n",
              "      fill: #FFFFFF;\n",
              "    }\n",
              "  </style>\n",
              "\n",
              "    <script>\n",
              "      const buttonEl =\n",
              "        document.querySelector('#df-49e03faa-5628-402e-bc9e-fd7448ff86a0 button.colab-df-convert');\n",
              "      buttonEl.style.display =\n",
              "        google.colab.kernel.accessAllowed ? 'block' : 'none';\n",
              "\n",
              "      async function convertToInteractive(key) {\n",
              "        const element = document.querySelector('#df-49e03faa-5628-402e-bc9e-fd7448ff86a0');\n",
              "        const dataTable =\n",
              "          await google.colab.kernel.invokeFunction('convertToInteractive',\n",
              "                                                    [key], {});\n",
              "        if (!dataTable) return;\n",
              "\n",
              "        const docLinkHtml = 'Like what you see? Visit the ' +\n",
              "          '<a target=\"_blank\" href=https://colab.research.google.com/notebooks/data_table.ipynb>data table notebook</a>'\n",
              "          + ' to learn more about interactive tables.';\n",
              "        element.innerHTML = '';\n",
              "        dataTable['output_type'] = 'display_data';\n",
              "        await google.colab.output.renderOutput(dataTable, element);\n",
              "        const docLink = document.createElement('div');\n",
              "        docLink.innerHTML = docLinkHtml;\n",
              "        element.appendChild(docLink);\n",
              "      }\n",
              "    </script>\n",
              "  </div>\n",
              "\n",
              "\n",
              "<div id=\"df-b34c09fe-5e90-4c56-889b-6cc4322a8699\">\n",
              "  <button class=\"colab-df-quickchart\" onclick=\"quickchart('df-b34c09fe-5e90-4c56-889b-6cc4322a8699')\"\n",
              "            title=\"Suggest charts\"\n",
              "            style=\"display:none;\">\n",
              "\n",
              "<svg xmlns=\"http://www.w3.org/2000/svg\" height=\"24px\"viewBox=\"0 0 24 24\"\n",
              "     width=\"24px\">\n",
              "    <g>\n",
              "        <path d=\"M19 3H5c-1.1 0-2 .9-2 2v14c0 1.1.9 2 2 2h14c1.1 0 2-.9 2-2V5c0-1.1-.9-2-2-2zM9 17H7v-7h2v7zm4 0h-2V7h2v10zm4 0h-2v-4h2v4z\"/>\n",
              "    </g>\n",
              "</svg>\n",
              "  </button>\n",
              "\n",
              "<style>\n",
              "  .colab-df-quickchart {\n",
              "      --bg-color: #E8F0FE;\n",
              "      --fill-color: #1967D2;\n",
              "      --hover-bg-color: #E2EBFA;\n",
              "      --hover-fill-color: #174EA6;\n",
              "      --disabled-fill-color: #AAA;\n",
              "      --disabled-bg-color: #DDD;\n",
              "  }\n",
              "\n",
              "  [theme=dark] .colab-df-quickchart {\n",
              "      --bg-color: #3B4455;\n",
              "      --fill-color: #D2E3FC;\n",
              "      --hover-bg-color: #434B5C;\n",
              "      --hover-fill-color: #FFFFFF;\n",
              "      --disabled-bg-color: #3B4455;\n",
              "      --disabled-fill-color: #666;\n",
              "  }\n",
              "\n",
              "  .colab-df-quickchart {\n",
              "    background-color: var(--bg-color);\n",
              "    border: none;\n",
              "    border-radius: 50%;\n",
              "    cursor: pointer;\n",
              "    display: none;\n",
              "    fill: var(--fill-color);\n",
              "    height: 32px;\n",
              "    padding: 0;\n",
              "    width: 32px;\n",
              "  }\n",
              "\n",
              "  .colab-df-quickchart:hover {\n",
              "    background-color: var(--hover-bg-color);\n",
              "    box-shadow: 0 1px 2px rgba(60, 64, 67, 0.3), 0 1px 3px 1px rgba(60, 64, 67, 0.15);\n",
              "    fill: var(--button-hover-fill-color);\n",
              "  }\n",
              "\n",
              "  .colab-df-quickchart-complete:disabled,\n",
              "  .colab-df-quickchart-complete:disabled:hover {\n",
              "    background-color: var(--disabled-bg-color);\n",
              "    fill: var(--disabled-fill-color);\n",
              "    box-shadow: none;\n",
              "  }\n",
              "\n",
              "  .colab-df-spinner {\n",
              "    border: 2px solid var(--fill-color);\n",
              "    border-color: transparent;\n",
              "    border-bottom-color: var(--fill-color);\n",
              "    animation:\n",
              "      spin 1s steps(1) infinite;\n",
              "  }\n",
              "\n",
              "  @keyframes spin {\n",
              "    0% {\n",
              "      border-color: transparent;\n",
              "      border-bottom-color: var(--fill-color);\n",
              "      border-left-color: var(--fill-color);\n",
              "    }\n",
              "    20% {\n",
              "      border-color: transparent;\n",
              "      border-left-color: var(--fill-color);\n",
              "      border-top-color: var(--fill-color);\n",
              "    }\n",
              "    30% {\n",
              "      border-color: transparent;\n",
              "      border-left-color: var(--fill-color);\n",
              "      border-top-color: var(--fill-color);\n",
              "      border-right-color: var(--fill-color);\n",
              "    }\n",
              "    40% {\n",
              "      border-color: transparent;\n",
              "      border-right-color: var(--fill-color);\n",
              "      border-top-color: var(--fill-color);\n",
              "    }\n",
              "    60% {\n",
              "      border-color: transparent;\n",
              "      border-right-color: var(--fill-color);\n",
              "    }\n",
              "    80% {\n",
              "      border-color: transparent;\n",
              "      border-right-color: var(--fill-color);\n",
              "      border-bottom-color: var(--fill-color);\n",
              "    }\n",
              "    90% {\n",
              "      border-color: transparent;\n",
              "      border-bottom-color: var(--fill-color);\n",
              "    }\n",
              "  }\n",
              "</style>\n",
              "\n",
              "  <script>\n",
              "    async function quickchart(key) {\n",
              "      const quickchartButtonEl =\n",
              "        document.querySelector('#' + key + ' button');\n",
              "      quickchartButtonEl.disabled = true;  // To prevent multiple clicks.\n",
              "      quickchartButtonEl.classList.add('colab-df-spinner');\n",
              "      try {\n",
              "        const charts = await google.colab.kernel.invokeFunction(\n",
              "            'suggestCharts', [key], {});\n",
              "      } catch (error) {\n",
              "        console.error('Error during call to suggestCharts:', error);\n",
              "      }\n",
              "      quickchartButtonEl.classList.remove('colab-df-spinner');\n",
              "      quickchartButtonEl.classList.add('colab-df-quickchart-complete');\n",
              "    }\n",
              "    (() => {\n",
              "      let quickchartButtonEl =\n",
              "        document.querySelector('#df-b34c09fe-5e90-4c56-889b-6cc4322a8699 button');\n",
              "      quickchartButtonEl.style.display =\n",
              "        google.colab.kernel.accessAllowed ? 'block' : 'none';\n",
              "    })();\n",
              "  </script>\n",
              "</div>\n",
              "\n",
              "    </div>\n",
              "  </div>\n"
            ]
          },
          "metadata": {},
          "execution_count": 52
        }
      ],
      "source": [
        "# brief statistics\n",
        "X_train.describe()"
      ]
    },
    {
      "cell_type": "code",
      "execution_count": 67,
      "id": "126d9d4d",
      "metadata": {
        "id": "126d9d4d",
        "colab": {
          "base_uri": "https://localhost:8080/"
        },
        "outputId": "79440d40-7327-4899-ab6a-a3a76a124b94"
      },
      "outputs": [
        {
          "output_type": "execute_result",
          "data": {
            "text/plain": [
              "-0.044642    187\n",
              " 0.050680    166\n",
              "Name: sex, dtype: int64"
            ]
          },
          "metadata": {},
          "execution_count": 67
        }
      ],
      "source": [
        "# value counts\n",
        "X_train['sex'].value_counts(dropna=False)"
      ]
    },
    {
      "cell_type": "code",
      "source": [
        "# pie chart\n",
        "df['sex'].value_counts(dropna=False).plot.pie()"
      ],
      "metadata": {
        "colab": {
          "base_uri": "https://localhost:8080/",
          "height": 423
        },
        "id": "iI2YRwxehUne",
        "outputId": "32294896-4d4b-404d-cf03-119a87fc788d"
      },
      "id": "iI2YRwxehUne",
      "execution_count": 69,
      "outputs": [
        {
          "output_type": "execute_result",
          "data": {
            "text/plain": [
              "<Axes: ylabel='sex'>"
            ]
          },
          "metadata": {},
          "execution_count": 69
        },
        {
          "output_type": "display_data",
          "data": {
            "text/plain": [
              "<Figure size 640x480 with 1 Axes>"
            ],
            "image/png": "[encoded data removed]"
          },
          "metadata": {}
        }
      ]
    },
    {
      "cell_type": "code",
      "execution_count": 62,
      "id": "541c8cbb",
      "metadata": {
        "id": "541c8cbb",
        "colab": {
          "base_uri": "https://localhost:8080/",
          "height": 487
        },
        "outputId": "8f5b0329-6f84-4081-fd26-66cbddcb5001"
      },
      "outputs": [
        {
          "output_type": "display_data",
          "data": {
            "text/plain": [
              "<Figure size 640x480 with 9 Axes>"
            ],
            "image/png": "[encoded data removed]"
          },
          "metadata": {}
        }
      ],
      "source": [
        "# show histograms\n",
        "import matplotlib.pyplot as plt\n",
        "\n",
        "X_train.hist()\n",
        "plt.tight_layout()"
      ]
    },
    {
      "cell_type": "markdown",
      "id": "6d5eb588",
      "metadata": {
        "id": "6d5eb588"
      },
      "source": [
        "## Measures of Center\n",
        "* Mean\n",
        "* Median\n",
        "* Mode\n",
        "\n",
        "And the Normal Distribution: https://www.mathsisfun.com/data/standard-normal-distribution.html"
      ]
    },
    {
      "cell_type": "code",
      "execution_count": 70,
      "id": "5f55c153",
      "metadata": {
        "id": "5f55c153",
        "colab": {
          "base_uri": "https://localhost:8080/"
        },
        "outputId": "e0296d5f-4c57-4f76-f023-8d2b2c5fff24"
      },
      "outputs": [
        {
          "output_type": "stream",
          "name": "stdout",
          "text": [
            "mean: 0\n",
            "mean: 0\n",
            "median: 0\n",
            "mode: 0   -0.044642\n",
            "Name: sex, dtype: float64\n",
            "mode: -0.044641636506989144\n"
          ]
        }
      ],
      "source": [
        "# mean, median, mode\n",
        "import numpy as np\n",
        "\n",
        "print('mean:', int(np.mean(X_train['s3'])))\n",
        "print('mean:', int(X_train['s3'].mean()))\n",
        "print('median:', int(X_train['s3'].median()))\n",
        "print('mode:', X_train['sex'].mode())\n",
        "print('mode:', X_train['sex'].mode()[0])"
      ]
    },
    {
      "cell_type": "code",
      "execution_count": 71,
      "id": "58dc35ef",
      "metadata": {
        "id": "58dc35ef",
        "colab": {
          "base_uri": "https://localhost:8080/"
        },
        "outputId": "6c10d1df-d2f2-4879-f173-cb3247373c4e"
      },
      "outputs": [
        {
          "output_type": "execute_result",
          "data": {
            "text/plain": [
              "-0.044642    187\n",
              " 0.050680    166\n",
              "Name: sex, dtype: int64"
            ]
          },
          "metadata": {},
          "execution_count": 71
        }
      ],
      "source": [
        "X_train['sex'].value_counts()"
      ]
    },
    {
      "cell_type": "code",
      "source": [
        "# what happens to the mean and median with skewed data\n",
        "import numpy as np\n",
        "from scipy.stats import skewnorm, norm\n",
        "from scipy import stats\n",
        "import matplotlib.pyplot as plt\n",
        "\n",
        "fig, ax = plt.subplots(1, 3, figsize=(14, 3))\n",
        "skew = 20\n",
        "n = 100000\n",
        "\n",
        "r = skewnorm.rvs(skew, loc=0, scale=10, size=n)\n",
        "ax[0].hist(r, bins=50, density=True, alpha=0.4)\n",
        "ax[0].axvline(x=np.median(r), color='green', label='Median')\n",
        "ax[0].axvline(x=np.mean(r).round(2), color='red', label='Mean')\n",
        "ax[0].legend()\n",
        "print(f'right skew data mean: {np.mean(r).round(2)}, median: {np.median(r).round(2)}')\n",
        "\n",
        "l = skewnorm.rvs(-skew, loc=0, scale=10, size=n)\n",
        "ax[2].hist(l, bins=50, density=True, alpha=0.4);\n",
        "ax[2].axvline(x=np.mean(l).round(2), color='red', label='Mean')\n",
        "ax[2].axvline(x=np.median(l), color='green', label='Median')\n",
        "ax[2].legend()\n",
        "print(f'left skew data mean: {np.mean(l).round(2)}, median: {np.median(l).round(2)}')\n",
        "\n",
        "n = norm.rvs(loc=0, scale=1, size=n)\n",
        "ax[1].hist(n, bins=50, density=True, alpha=0.4);\n",
        "ax[1].axvline(x=np.mean(n).round(2), color='red', linewidth=3, label='Mean')\n",
        "ax[1].axvline(x=np.median(n), color='green', label='Median')\n",
        "ax[1].legend()\n",
        "print(f'normal data mean: {np.mean(n).round(2)}, median: {np.median(n).round(2)}')"
      ],
      "metadata": {
        "id": "wy1B6u7voAHY",
        "colab": {
          "base_uri": "https://localhost:8080/",
          "height": 336
        },
        "outputId": "8325c810-7d27-4727-ca90-c3d66c4c6ab4"
      },
      "id": "wy1B6u7voAHY",
      "execution_count": 72,
      "outputs": [
        {
          "output_type": "stream",
          "name": "stdout",
          "text": [
            "right skew data mean: 7.97, median: 6.75\n",
            "left skew data mean: -7.96, median: -6.75\n",
            "normal data mean: 0.0, median: 0.0\n"
          ]
        },
        {
          "output_type": "display_data",
          "data": {
            "text/plain": [
              "<Figure size 1400x300 with 3 Axes>"
            ],
            "image/png": "[encoded data removed]"
          },
          "metadata": {}
        }
      ]
    },
    {
      "cell_type": "markdown",
      "id": "d6ce6a16",
      "metadata": {
        "id": "d6ce6a16"
      },
      "source": [
        "### The Wisdom of the Crowd, The Median"
      ]
    },
    {
      "cell_type": "markdown",
      "id": "3ab67540",
      "metadata": {
        "id": "3ab67540"
      },
      "source": [
        "### Imputing Missing Values"
      ]
    },
    {
      "cell_type": "code",
      "execution_count": 73,
      "id": "03b7e654",
      "metadata": {
        "id": "03b7e654",
        "colab": {
          "base_uri": "https://localhost:8080/"
        },
        "outputId": "55a0b7de-7f33-476a-a5ad-599af8d02146"
      },
      "outputs": [
        {
          "output_type": "execute_result",
          "data": {
            "text/plain": [
              "age    0\n",
              "sex    0\n",
              "bmi    0\n",
              "s1     0\n",
              "s2     0\n",
              "s3     0\n",
              "s4     0\n",
              "s5     0\n",
              "s6     0\n",
              "dtype: int64"
            ]
          },
          "metadata": {},
          "execution_count": 73
        }
      ],
      "source": [
        "X_train.isnull().sum()"
      ]
    },
    {
      "cell_type": "code",
      "execution_count": 74,
      "id": "ab0a59a6",
      "metadata": {
        "id": "ab0a59a6",
        "colab": {
          "base_uri": "https://localhost:8080/"
        },
        "outputId": "cdc5f2a3-3cc4-44af-c955-409a35bfb5f4"
      },
      "outputs": [
        {
          "output_type": "execute_result",
          "data": {
            "text/plain": [
              "age    0\n",
              "sex    0\n",
              "bmi    0\n",
              "s1     0\n",
              "s2     0\n",
              "s3     0\n",
              "s4     0\n",
              "s5     0\n",
              "s6     0\n",
              "dtype: int64"
            ]
          },
          "metadata": {},
          "execution_count": 74
        }
      ],
      "source": [
        "# replace missing values with mean\n",
        "X_train['s3'].fillna(X_train['s3'].round(decimals=2).mean(), inplace=True)\n",
        "X_train.isnull().sum()"
      ]
    },
    {
      "cell_type": "code",
      "execution_count": null,
      "id": "837cf897",
      "metadata": {
        "id": "837cf897"
      },
      "outputs": [],
      "source": [
        "# replace missing values for Tutorial, Midterm, Quiz, and Final using the example above"
      ]
    },
    {
      "cell_type": "markdown",
      "id": "2b0572cc",
      "metadata": {
        "id": "2b0572cc"
      },
      "source": [
        "## Measures of Spread"
      ]
    },
    {
      "cell_type": "markdown",
      "id": "b6e05e23",
      "metadata": {
        "id": "b6e05e23"
      },
      "source": [
        "### Variance\n",
        "\n",
        "Equation for mean:<br />\n",
        "$\\mu = \\frac{1}{N} \\sum_{i=1}^{N} x_i$\n",
        "\n",
        "https://www.statology.org/sample-variance-vs-population-variance/<br />\n",
        "Equation for population variance:<br />\n",
        "$\\sigma^2 = \\frac{1}{N}\\sum({x}-\\bar{x})^2$\n",
        "\n",
        "Equation for sample variance:<br />\n",
        "$s^2 = \\frac{1}{n-1}\\sum({x}-\\bar{x})^2$\n",
        "\n",
        "Equation for standard deviation:<br />\n",
        "$\\sigma = \\sqrt{\\frac{1}{N}\\sum(x-\\bar{x})^2}$"
      ]
    },
    {
      "cell_type": "code",
      "execution_count": 76,
      "id": "246a6e16",
      "metadata": {
        "id": "246a6e16",
        "colab": {
          "base_uri": "https://localhost:8080/"
        },
        "outputId": "258c07ad-17eb-46f5-fdba-5d2098128165"
      },
      "outputs": [
        {
          "output_type": "stream",
          "name": "stdout",
          "text": [
            "Population variance: 0.002263520048136828\n",
            "Sample variance: 0.002269950502819035\n",
            "Population std dev: 0.04757646527577294\n",
            "Sample std dev: 0.047643997552882095\n",
            "Square root of sample variance: 0.047643997552882095\n",
            "Square root of sample variance: 0.047643997552882095\n"
          ]
        }
      ],
      "source": [
        "# Assignment variance and standard deviation\n",
        "print('Population variance:', X_train['sex'].var(ddof=0))\n",
        "print('Sample variance:', X_train['sex'].var(ddof=1))\n",
        "print('Population std dev:', X_train['sex'].std(ddof=0))\n",
        "print('Sample std dev:', X_train['sex'].std(ddof=1))\n",
        "print('Square root of sample variance:', np.sqrt(X_train['sex'].var()))\n",
        "print('Square root of sample variance:', X_train['sex'].var()**(1/2))"
      ]
    },
    {
      "cell_type": "markdown",
      "id": "747d0858",
      "metadata": {
        "id": "747d0858"
      },
      "source": [
        "### Quartiles\n",
        "\n",
        "https://en.wikipedia.org/wiki/Interquartile_range\n",
        "\n",
        "Interquartile range<br />\n",
        "Whiskers<br />\n",
        "\n",
        "Outliers<br />\n",
        "Fence<br />\n",
        "https://www.statisticshowto.com/upper-and-lower-fences/\n",
        "\n",
        "Boxplots<br />\n",
        "Violin plots"
      ]
    },
    {
      "cell_type": "markdown",
      "source": [
        "### Percentages\n",
        "\n",
        "* Naked Statistics - the dress and 25% markdown\n",
        "* Art of Statistics Chapter 2 - 5% mortality sounds much worse than 95% survival"
      ],
      "metadata": {
        "id": "RJr1D1crQ3cJ"
      },
      "id": "RJr1D1crQ3cJ"
    },
    {
      "cell_type": "code",
      "execution_count": 77,
      "id": "2aa5b5b1",
      "metadata": {
        "id": "2aa5b5b1",
        "colab": {
          "base_uri": "https://localhost:8080/",
          "height": 447
        },
        "outputId": "30aa1cf5-c334-4ae8-d2bb-3fe0186f18da"
      },
      "outputs": [
        {
          "output_type": "execute_result",
          "data": {
            "text/plain": [
              "<Axes: >"
            ]
          },
          "metadata": {},
          "execution_count": 77
        },
        {
          "output_type": "display_data",
          "data": {
            "text/plain": [
              "<Figure size 640x480 with 1 Axes>"
            ],
            "image/png": "[encoded data removed]"
          },
          "metadata": {}
        }
      ],
      "source": [
        "# Assignment histogram\n",
        "X_train['sex'].hist()"
      ]
    },
    {
      "cell_type": "code",
      "execution_count": 78,
      "id": "2163a715",
      "metadata": {
        "id": "2163a715",
        "colab": {
          "base_uri": "https://localhost:8080/",
          "height": 430
        },
        "outputId": "c7bdcad3-097d-4529-8406-44ecbddf1f45"
      },
      "outputs": [
        {
          "output_type": "display_data",
          "data": {
            "text/plain": [
              "<Figure size 640x480 with 1 Axes>"
            ],
            "image/png": "[encoded data removed]"
          },
          "metadata": {}
        }
      ],
      "source": [
        "# Assignment boxplot\n",
        "X_train.boxplot(column=['sex']);"
      ]
    },
    {
      "cell_type": "code",
      "execution_count": 79,
      "id": "304660b6",
      "metadata": {
        "id": "304660b6",
        "colab": {
          "base_uri": "https://localhost:8080/",
          "height": 449
        },
        "outputId": "6a6a056d-efc9-4645-e3e7-803f520739c1"
      },
      "outputs": [
        {
          "output_type": "display_data",
          "data": {
            "text/plain": [
              "<Figure size 640x480 with 1 Axes>"
            ],
            "image/png": "[encoded data removed]"
          },
          "metadata": {}
        }
      ],
      "source": [
        "# Assignment violinplot\n",
        "import seaborn as sns\n",
        "\n",
        "sns.violinplot(x=X_train['sex']);"
      ]
    },
    {
      "cell_type": "markdown",
      "id": "094c027a",
      "metadata": {
        "id": "094c027a"
      },
      "source": [
        "## Measures of Shape\n",
        "\n",
        "https://www.analyticsvidhya.com/blog/2021/05/shape-of-data-skewness-and-kurtosis/\n",
        "\n",
        "**Skewness**\n",
        "* Skewed right\n",
        "* Skewed left\n",
        "\n",
        "**Kurtosis**\n",
        "* Mesokurtic\n",
        "* Leptokurtic\n",
        "* Platykurtic"
      ]
    },
    {
      "cell_type": "code",
      "execution_count": 80,
      "id": "59d3bd9c",
      "metadata": {
        "id": "59d3bd9c",
        "colab": {
          "base_uri": "https://localhost:8080/",
          "height": 865
        },
        "outputId": "80ac4b76-d127-4e38-8c21-2cdbe496a1cd"
      },
      "outputs": [
        {
          "output_type": "stream",
          "name": "stdout",
          "text": [
            "mean before outliers: -0.10384651739409385\n",
            "var before outliers: 0.8165221946938582\n"
          ]
        },
        {
          "output_type": "display_data",
          "data": {
            "text/plain": [
              "<Figure size 1000x1000 with 4 Axes>"
            ],
            "image/png": "[encoded data removed]"
          },
          "metadata": {}
        }
      ],
      "source": [
        "# visualize outliers before and after\n",
        "from random import random\n",
        "from random import randint\n",
        "from sklearn.datasets import make_regression\n",
        "\n",
        "X, y = make_regression(n_samples=100, n_features=1, noise=50, random_state=42)\n",
        "print('mean before outliers:', np.mean(X))\n",
        "print('var before outliers:', np.var(X))\n",
        "fig, ([ax1, ax2], [ax3, ax4]) = plt.subplots(2, 2, figsize=(10, 10))\n",
        "ax1.scatter(X, y)\n",
        "ax2.hist(X)\n",
        "ax3.boxplot(X)\n",
        "sns.violinplot(ax=ax4, data=X);"
      ]
    },
    {
      "cell_type": "code",
      "execution_count": 81,
      "id": "7d0b0a4e",
      "metadata": {
        "id": "7d0b0a4e",
        "colab": {
          "base_uri": "https://localhost:8080/",
          "height": 865
        },
        "outputId": "f3ae94b2-1593-4800-8cdd-6c55416bc32e"
      },
      "outputs": [
        {
          "output_type": "stream",
          "name": "stdout",
          "text": [
            "mean after outliers: -0.18842270311436768\n",
            "var after outliers: 2.9502817418998863\n"
          ]
        },
        {
          "output_type": "display_data",
          "data": {
            "text/plain": [
              "<Figure size 1000x1000 with 4 Axes>"
            ],
            "image/png": "[encoded data removed]"
          },
          "metadata": {}
        }
      ],
      "source": [
        "# create outliers\n",
        "for i in range(30):\n",
        "    factor = randint(-3, 3)\n",
        "    if random() > 0.5:\n",
        "        X[i] += factor * X.std()\n",
        "    else:\n",
        "        X[i] -= factor * X.std()\n",
        "\n",
        "fig, ([ax1, ax2], [ax3, ax4]) = plt.subplots(2, 2, figsize=(10, 10))\n",
        "ax1.scatter(X, y)\n",
        "ax2.hist(X)\n",
        "ax3.boxplot(X)\n",
        "sns.violinplot(ax=ax4, data=X)\n",
        "print('mean after outliers:', np.mean(X))\n",
        "print('var after outliers:', np.var(X))"
      ]
    },
    {
      "cell_type": "markdown",
      "id": "f1cbf3d7",
      "metadata": {
        "id": "f1cbf3d7"
      },
      "source": [
        "### Skewed data\n",
        "\n",
        "https://www.itl.nist.gov/div898/handbook/eda/section3/eda33e6.htm\n",
        "\n",
        "Occur due to upper or lower bounds on the data<br />\n",
        "https://www.mathsisfun.com/definitions/upper-bound.html<br />\n",
        "Mean, Median, and Mode should be mentioned because there is no center in the usual sense<br />\n",
        "\n",
        "**Right Skewed**\n",
        "* Tail is on the right side\n",
        "* Mode Median Mean\n",
        "* Data have a lower bound\n",
        "\n",
        "**Left Skewed**\n",
        "* Tail is on the left\n",
        "* Mean Median Mode\n",
        "* Data have an upper bound"
      ]
    },
    {
      "cell_type": "code",
      "execution_count": 82,
      "id": "61543d9b",
      "metadata": {
        "id": "61543d9b",
        "colab": {
          "base_uri": "https://localhost:8080/",
          "height": 464
        },
        "outputId": "d3fae82b-1030-4650-f644-01364ec1b479"
      },
      "outputs": [
        {
          "output_type": "execute_result",
          "data": {
            "text/plain": [
              "<Axes: >"
            ]
          },
          "metadata": {},
          "execution_count": 82
        },
        {
          "output_type": "display_data",
          "data": {
            "text/plain": [
              "<Figure size 1200x500 with 3 Axes>"
            ],
            "image/png": "[encoded data removed]"
          },
          "metadata": {}
        }
      ],
      "source": [
        "# creating skewed data\n",
        "# https://docs.scipy.org/doc/scipy/reference/generated/scipy.stats.skewnorm.html\n",
        "from scipy.stats import skewnorm\n",
        "\n",
        "a = 4 # skewness parameter: positive values are right skewed, negative values are left skewed\n",
        "X = skewnorm.rvs(a, size=100)\n",
        "fig, (ax1, ax2, ax3) = plt.subplots(1, 3, figsize=(12, 5))\n",
        "ax1.hist(X)\n",
        "ax2.boxplot(X)\n",
        "sns.violinplot(ax=ax3, data=X)"
      ]
    },
    {
      "cell_type": "markdown",
      "id": "37d57f7f",
      "metadata": {
        "id": "37d57f7f"
      },
      "source": [
        "### Kurtosis\n",
        "\n",
        "https://www.investopedia.com/terms/p/platykurtic.asp\n",
        "\n",
        "* Mesokurtic: Extreme events are rare, resembles normal distribution\n",
        "* Platykurtic: Excess kurtosis is negative (< 3) and has thinner tails. Fewer extreme events. In finance, risk-averse investors might perfer platykurtic distributions\n",
        "* Leptokurtic: Excess kurtosis is greater than 3 and has fatter tails. Caused by extreme events or outliers.\n",
        "\n",
        "According to Investopedia (2022):\n",
        "\n",
        "> Risk-seeking investors can focus on investments whose returns follow a leptokurtic distribution, to maximize the chances of rare events—both positive and negative (para 3).\n",
        "\n",
        "Sources:\n",
        "* Leptokurtic Definition. (2022, February 1). In *Investopedia*. https://www.investopedia.com/terms/l/leptokurtic.asp.\n",
        "* https://medium.com/@filip.sekan/4-ways-how-to-shape-histograms-appearance-a87764df1417\n",
        "* https://miro.medium.com/v2/resize:fit:1100/format:webp/1*m2X-C-IMcYORq7G5mzvAzg.png"
      ]
    },
    {
      "cell_type": "code",
      "execution_count": 83,
      "id": "bf37501c",
      "metadata": {
        "id": "bf37501c",
        "colab": {
          "base_uri": "https://localhost:8080/",
          "height": 430
        },
        "outputId": "af0d02e3-0381-41c5-9bef-e865a395fcb9"
      },
      "outputs": [
        {
          "output_type": "display_data",
          "data": {
            "text/plain": [
              "<Figure size 640x480 with 1 Axes>"
            ],
            "image/png": "[encoded data removed]"
          },
          "metadata": {}
        }
      ],
      "source": [
        "import numpy as np\n",
        "from scipy.stats import norm\n",
        "\n",
        "# generate a normal distribution\n",
        "normal_dist = norm(0, 1)\n",
        "normal_samples = normal_dist.rvs(10000)\n",
        "\n",
        "# generate a leptokurtic distribution\n",
        "leptokurtic_dist = norm(loc=0, scale=0.5)\n",
        "leptokurtic_samples = leptokurtic_dist.rvs(10000)\n",
        "\n",
        "# generate a platykurtic distribution\n",
        "platykurtic_samples = normal_samples + np.random.randn(10000)\n",
        "\n",
        "# plot the distributions\n",
        "import matplotlib.pyplot as plt\n",
        "plt.hist(normal_samples, bins=100, alpha=0.5, label='Normal distribution')\n",
        "plt.hist(leptokurtic_samples, bins=100, alpha=0.5, label='Leptokurtic distribution')\n",
        "plt.hist(platykurtic_samples, bins=100, alpha=0.5, label='Platykurtic distribution')\n",
        "plt.legend()\n",
        "plt.show()"
      ]
    },
    {
      "cell_type": "markdown",
      "id": "4c052ccd",
      "metadata": {
        "id": "4c052ccd"
      },
      "source": [
        "https://www.kaggle.com/getting-started/170781\n",
        "\n",
        "Skewness essentially measures the symmetry of the distribution, while kurtosis determines the heaviness of the distribution tails.\n",
        "\n",
        "The topic of Kurtosis has been controversial for decades now, the basis of kurtosis all these years has been linked with the peakedness but the ultimate verdict is that outliers (fatter tails) govern the kurtosis effect far more than the values near the mean (peak).\n",
        "\n",
        "https://towardsdatascience.com/skewness-kurtosis-simplified-1338e094fc85"
      ]
    },
    {
      "cell_type": "markdown",
      "id": "e0327526",
      "metadata": {
        "id": "e0327526"
      },
      "source": [
        "### Moments\n",
        "\n",
        "According to Wikipedia (2022):\n",
        "\n",
        ">  If the function is a probability distribution, then the first moment is the expected value, the second central moment is the variance, the third standardized moment is the skewness, and the fourth standardized moment is the kurtosis (para 1).\n",
        "\n",
        "Moment (mathematics). (2022, January 31). In *Wikipedia*. https://en.wikipedia.org/wiki/Moment_(mathematics).\n",
        "\n",
        "Mean:<br />\n",
        "$\\mu = \\frac{1}{N} \\sum_{i=1}^{N} x_i$v\n",
        "\n",
        "Variance:<br />\n",
        "$s^2 = \\frac{\\sum(x-\\bar{x})^2}{n-1}$\n",
        "\n",
        "Skewness:<br />\n",
        "$\\frac{\\frac{1}{n}\\sum(x - \\mu)^3}{\\sigma^3}$\n",
        "\n",
        "Kurtosis:<br />\n",
        "$\\frac{\\frac{1}{n}\\sum(x - \\mu)^4}{\\sigma^4}$\n",
        "\n",
        "More reading: https://gregorygundersen.com/blog/2020/04/11/moments/"
      ]
    },
    {
      "cell_type": "markdown",
      "id": "d3713892",
      "metadata": {
        "id": "d3713892"
      },
      "source": [
        "## Correlation\n",
        "\n",
        "According to Wikipedia (2022):\n",
        "\n",
        ">  In statistics, correlation or dependence is any statistical relationship, whether causal or not, between two random variables or bivariate data. In the broadest sense correlation is any statistical association, though it actually refers to the degree to which a pair of variables are linearly related. Familiar examples of dependent phenomena include the correlation between the height of parents and their offspring, and the correlation between the price of a good and the quantity the consumers are willing to purchase... Correlations - 2 are useful because they can indicate a predictive relationship that can be exploited in practice (paras. 1 - 2).\n",
        "\n",
        "Correlation. (2022, February 1). In *Wikipedia*. https://en.wikipedia.org/wiki/Correlation.\n",
        "\n",
        "Correlation does not cause causation. Warm days on the beach, ice cream, and shark bites.\n",
        "\n",
        "Covariance:<br />\n",
        "$cov(x, y) = \\frac{1}{N} \\sum_{i=1}^{N}(x_i - \\bar{x}) (y_i - \\bar{y})$\n",
        "\n",
        "* Shows how variables change together\n",
        "* A measure of correlation\n",
        "* Measures direction\n",
        "\n",
        "Pearson’s r (correlation coefficient):<br />\n",
        "$\\rho_{x,y} = \\frac{cov(x,y)}{\\sigma_x\\sigma_y} = \\frac{\\frac{1}{N}\\sum(x-\\bar{x})(y-\\bar{y})}{\\sqrt\\frac{\\sum(x-\\bar{x})^2}{N}\\sqrt\\frac{\\sum(y-\\bar{y})^2}{N}}  = \\frac{\\sum(x-\\bar{x})(y-\\bar{y})}{\\sqrt{\\sum(x-\\bar{x})^2}\\sqrt{\\sum(y-\\bar{y})^2}}$\n",
        "\n",
        "* Shows linear relationship between two continuous variables\n",
        "* How one variable changes as another variable changes\n",
        "* Measures both strength and direction\n",
        "\n",
        "Resources:\n",
        "\n",
        "* https://statistics.laerd.com/statistical-guides/pearson-correlation-coefficient-statistical-guide.php\n",
        "* https://www.mygreatlearning.com/blog/covariance-vs-correlation/\n"
      ]
    },
    {
      "cell_type": "code",
      "source": [
        "# show correlation between the features\n",
        "import numpy as np\n",
        "import matplotlib.pyplot as plt\n",
        "import seaborn as sns\n",
        "\n",
        "# correlation matrix\n",
        "sns.set(style=\"white\")\n",
        "\n",
        "# compute the correlation matrix\n",
        "corr = X_train._get_numeric_data().corr()\n",
        "\n",
        "# generate a mask for the upper triangle\n",
        "mask = np.zeros_like(corr, dtype=bool)\n",
        "mask[np.triu_indices_from(mask)] = True\n",
        "\n",
        "# set up the matplotlib figure\n",
        "# f, ax = plt.subplots()\n",
        "f = plt.figure(figsize=(8, 8))\n",
        "\n",
        "# generate a custom diverging colormap\n",
        "cmap = sns.diverging_palette(220, 10, as_cmap=True)\n",
        "\n",
        "# draw the heatmap with the mask and correct aspect ratio\n",
        "sns.heatmap(corr, mask=mask, cmap=cmap, vmax=.3, center=0,\n",
        "            square=True, linewidths=.5, cbar_kws={\"shrink\": .5}, annot=True);\n",
        "\n",
        "plt.tight_layout()"
      ],
      "metadata": {
        "id": "MR6JK8P3pdYi",
        "colab": {
          "base_uri": "https://localhost:8080/",
          "height": 653
        },
        "outputId": "c595260d-93c9-4789-c329-7027f3ade934"
      },
      "id": "MR6JK8P3pdYi",
      "execution_count": 84,
      "outputs": [
        {
          "output_type": "display_data",
          "data": {
            "text/plain": [
              "<Figure size 800x800 with 2 Axes>"
            ],
            "image/png": "[encoded data removed]"
          },
          "metadata": {}
        }
      ]
    },
    {
      "cell_type": "code",
      "execution_count": 85,
      "id": "c716c7d4",
      "metadata": {
        "id": "c716c7d4",
        "colab": {
          "base_uri": "https://localhost:8080/",
          "height": 484
        },
        "outputId": "381c0738-f683-4c4c-df71-789f95ae4b75"
      },
      "outputs": [
        {
          "output_type": "display_data",
          "data": {
            "text/plain": [
              "<Figure size 640x480 with 1 Axes>"
            ],
            "image/png": "[encoded data removed]"
          },
          "metadata": {}
        }
      ],
      "source": [
        "# showing correlation of multiple features with one target\n",
        "X_train.corrwith(y_train, numeric_only=True).plot.bar(\n",
        "        title = \"Correlation with Target\", fontsize = 15,\n",
        "        rot = 45, grid = True);"
      ]
    },
    {
      "cell_type": "markdown",
      "source": [
        "### Multicollinearity\n",
        "The need to reduce multicollinearity depends on its severity and your primary goal for your regression model. Keep the following three points in mind:\n",
        "* The severity of the problems increases with the degree of the multicollinearity. Therefore, if you have only moderate multicollinearity, you may not need to resolve it.\n",
        "* Multicollinearity affects only the specific independent variables that are correlated. Therefore, if multicollinearity is not present for the independent variables that you are particularly interested in, you may not need to resolve it. Suppose your model contains the experimental variables of interest and some control variables. If high multicollinearity exists for the control variables but not the experimental variables, then you can interpret the experimental variables without problems.\n",
        "* Multicollinearity affects the coefficients and p-values, but it does not influence the predictions, precision of the predictions, and the goodness-of-fit statistics. If your primary goal is to make predictions, and you don’t need to understand the role of each independent variable, you don’t need to reduce severe multicollinearity.\n",
        "https://statisticsbyjim.com/regression/multicollinearity-in-regression-analysis/"
      ],
      "metadata": {
        "id": "2nlsDKEgpodc"
      },
      "id": "2nlsDKEgpodc"
    },
    {
      "cell_type": "markdown",
      "source": [
        "### Spurious Correlations\n",
        "\n",
        "* https://www.tylervigen.com/spurious-correlations"
      ],
      "metadata": {
        "id": "Z5qASGtTeEbJ"
      },
      "id": "Z5qASGtTeEbJ"
    },
    {
      "cell_type": "markdown",
      "source": [
        "## SweetViz\n",
        "\n",
        "* Pandas-Profiling\n",
        "* Autoviz\n",
        "* D-Tale\n",
        "* https://towardsdatascience.com/4-libraries-that-can-perform-eda-in-one-line-of-python-code-b13938a06ae\n",
        "* https://pypi.org/project/sweetviz/\n",
        "* https://colab.research.google.com/drive/1-md6YEwcVGWVnQWTBirQSYQYgdNoeSWg?usp=sharing"
      ],
      "metadata": {
        "id": "a7LoxB7pDknf"
      },
      "id": "a7LoxB7pDknf"
    },
    {
      "cell_type": "markdown",
      "source": [
        "## Project Part I\n",
        "\n",
        "Presentations start next week\n",
        "\n",
        "* Think of a data science project you'd like to work on for the rest of the semester that uses a dataset\n",
        "* Think about a story you want to tell with this data\n",
        "* Introduce this dataset to the class and describe the dataset\n",
        "  * Train Test Datasets\n",
        "  * Shape, Info, Simple descriptives\n",
        "  * Missing values\n",
        "  * Histograms - Skewness Kurtosis\n",
        "  * Correlations\n",
        "\n",
        "Hints\n",
        "\n",
        "* Keep the dataset simple if possible\n",
        "* If you change your mind later, it's ok but a complete analysis as per the instructions in class will still be needed."
      ],
      "metadata": {
        "id": "sUkooZdnl7rp"
      },
      "id": "sUkooZdnl7rp"
    }
  ],
  "metadata": {
    "kernelspec": {
      "display_name": "Python 3 (ipykernel)",
      "language": "python",
      "name": "python3"
    },
    "language_info": {
      "codemirror_mode": {
        "name": "ipython",
        "version": 3
      },
      "file_extension": ".py",
      "mimetype": "text/x-python",
      "name": "python",
      "nbconvert_exporter": "python",
      "pygments_lexer": "ipython3",
      "version": "3.9.7"
    },
    "colab": {
      "provenance": [],
      "toc_visible": true,
      "include_colab_link": true
    }
  },
  "nbformat": 4,
  "nbformat_minor": 5
}